{
 "cells": [
  {
   "metadata": {},
   "cell_type": "markdown",
   "source": "## Import library ",
   "id": "d2f50000334d68ba"
  },
  {
   "cell_type": "code",
   "id": "initial_id",
   "metadata": {
    "collapsed": true,
    "ExecuteTime": {
     "end_time": "2025-01-09T17:54:28.338526Z",
     "start_time": "2025-01-09T17:54:27.354585Z"
    }
   },
   "source": [
    "#Importing necessary libraries\n",
    "import pandas as pd\n",
    "import numpy as np\n",
    "import matplotlib.pyplot as plt\n",
    "import seaborn as sns\n",
    "from sklearn.metrics.pairwise import cosine_similarity\n",
    "from sklearn.feature_extraction.text import TfidfVectorizer\n",
    "import os\n",
    "from scipy.sparse import coo_matrix\n",
    "from spacy.cli.train import train"
   ],
   "outputs": [],
   "execution_count": 1
  },
  {
   "metadata": {
    "ExecuteTime": {
     "end_time": "2025-01-09T17:54:28.465582Z",
     "start_time": "2025-01-09T17:54:28.338526Z"
    }
   },
   "cell_type": "code",
   "source": [
    "# read dataset , tsv file meaning that value separated by \\t\n",
    "train_data = pd.read_csv('rawdata.tsv', sep='\\t')\n",
    "train_data.columns"
   ],
   "id": "117a7cffe6e92099",
   "outputs": [
    {
     "data": {
      "text/plain": [
       "Index(['Uniq Id', 'Crawl Timestamp', 'Dataset Origin', 'Product Id',\n",
       "       'Product Barcode', 'Product Company Type Source',\n",
       "       'Product Brand Source', 'Product Brand Normalised Source',\n",
       "       'Product Name Source', 'Match Rank', 'Match Score', 'Match Type',\n",
       "       'Retailer', 'Product Category', 'Product Brand', 'Product Name',\n",
       "       'Product Price', 'Sku', 'Upc', 'Product Url', 'Market',\n",
       "       'Product Description', 'Product Currency',\n",
       "       'Product Available Inventory', 'Product Image Url',\n",
       "       'Product Model Number', 'Product Tags', 'Product Contents',\n",
       "       'Product Rating', 'Product Reviews Count', 'Bsr', 'Joining Key'],\n",
       "      dtype='object')"
      ]
     },
     "execution_count": 2,
     "metadata": {},
     "output_type": "execute_result"
    }
   ],
   "execution_count": 2
  },
  {
   "metadata": {
    "ExecuteTime": {
     "end_time": "2025-01-09T17:54:28.568427Z",
     "start_time": "2025-01-09T17:54:28.562059Z"
    }
   },
   "cell_type": "code",
   "source": "train_data.shape",
   "id": "76807c1cd67220ad",
   "outputs": [
    {
     "data": {
      "text/plain": [
       "(5000, 32)"
      ]
     },
     "execution_count": 3,
     "metadata": {},
     "output_type": "execute_result"
    }
   ],
   "execution_count": 3
  },
  {
   "metadata": {},
   "cell_type": "markdown",
   "source": "## Remove unnecessary column",
   "id": "8b83ca6820eb7875"
  },
  {
   "metadata": {
    "ExecuteTime": {
     "end_time": "2025-01-09T17:54:28.590808Z",
     "start_time": "2025-01-09T17:54:28.577045Z"
    }
   },
   "cell_type": "code",
   "source": [
    "#Filtering of data as per our need choosing necessary columns\n",
    "train_data = train_data[['Uniq Id','Product Id', 'Product Rating', 'Product Reviews Count', 'Product Category', 'Product Brand', 'Product Name', 'Product Price', 'Product Image Url', 'Product Description', 'Product Tags']]\n",
    "train_data.head(3)"
   ],
   "id": "cd7a84d26dd72f1d",
   "outputs": [
    {
     "data": {
      "text/plain": [
       "                            Uniq Id                        Product Id  \\\n",
       "0  1705736792d82aa2f2d3caf1c07c53f4  2e17bf4acecdece67fc00f07ad62c910   \n",
       "1  95a9fe6f4810fcfc7ff244fd06784f11  076e5854a62dd283c253d6bae415af1f   \n",
       "2  8d4d0330178d3ed181b15a4102b287f2  8a4fe5d9c7a6ed26cc44d785a454b124   \n",
       "\n",
       "   Product Rating  Product Reviews Count  \\\n",
       "0             NaN                    NaN   \n",
       "1             NaN                    NaN   \n",
       "2             4.5                29221.0   \n",
       "\n",
       "                                    Product Category Product Brand  \\\n",
       "0  Premium Beauty > Premium Makeup > Premium Nail...           OPI   \n",
       "1  Beauty > Hair Care > Hair Color > Auburn Hair ...   Nice'n Easy   \n",
       "2  Beauty > Hair Care > Hair Color > Permanent Ha...       Clairol   \n",
       "\n",
       "                                        Product Name  Product Price  \\\n",
       "0  OPI Infinite Shine, Nail Lacquer Nail Polish, ...           8.95   \n",
       "1  Nice n Easy Permanent Color, 111 Natural Mediu...          29.86   \n",
       "2  Clairol Nice N Easy Permanent Color 7/106A Nat...           7.99   \n",
       "\n",
       "                                   Product Image Url  \\\n",
       "0  https://i5.walmartimages.com/asr/0e1f4c51-c1a4...   \n",
       "1  https://i5.walmartimages.com/asr/9c8e42e4-13a5...   \n",
       "2  https://i5.walmartimages.com/asr/e3a601c2-6a2b...   \n",
       "\n",
       "                                 Product Description  \\\n",
       "0                                                NaN   \n",
       "1  Pack of 3 Pack of 3 for the UPC: 381519000201 ...   \n",
       "2  This Clairol Nice N Easy Permanent Color gives...   \n",
       "\n",
       "                                        Product Tags  \n",
       "0  OPI Infinite Shine, Nail Lacquer Nail Polish, ...  \n",
       "1  Nice 'n Easy Permanent Color, 111 Natural Medi...  \n",
       "2  Clairol Nice 'N Easy Permanent Color 7/106A Na...  "
      ],
      "text/html": [
       "<div>\n",
       "<style scoped>\n",
       "    .dataframe tbody tr th:only-of-type {\n",
       "        vertical-align: middle;\n",
       "    }\n",
       "\n",
       "    .dataframe tbody tr th {\n",
       "        vertical-align: top;\n",
       "    }\n",
       "\n",
       "    .dataframe thead th {\n",
       "        text-align: right;\n",
       "    }\n",
       "</style>\n",
       "<table border=\"1\" class=\"dataframe\">\n",
       "  <thead>\n",
       "    <tr style=\"text-align: right;\">\n",
       "      <th></th>\n",
       "      <th>Uniq Id</th>\n",
       "      <th>Product Id</th>\n",
       "      <th>Product Rating</th>\n",
       "      <th>Product Reviews Count</th>\n",
       "      <th>Product Category</th>\n",
       "      <th>Product Brand</th>\n",
       "      <th>Product Name</th>\n",
       "      <th>Product Price</th>\n",
       "      <th>Product Image Url</th>\n",
       "      <th>Product Description</th>\n",
       "      <th>Product Tags</th>\n",
       "    </tr>\n",
       "  </thead>\n",
       "  <tbody>\n",
       "    <tr>\n",
       "      <th>0</th>\n",
       "      <td>1705736792d82aa2f2d3caf1c07c53f4</td>\n",
       "      <td>2e17bf4acecdece67fc00f07ad62c910</td>\n",
       "      <td>NaN</td>\n",
       "      <td>NaN</td>\n",
       "      <td>Premium Beauty &gt; Premium Makeup &gt; Premium Nail...</td>\n",
       "      <td>OPI</td>\n",
       "      <td>OPI Infinite Shine, Nail Lacquer Nail Polish, ...</td>\n",
       "      <td>8.95</td>\n",
       "      <td>https://i5.walmartimages.com/asr/0e1f4c51-c1a4...</td>\n",
       "      <td>NaN</td>\n",
       "      <td>OPI Infinite Shine, Nail Lacquer Nail Polish, ...</td>\n",
       "    </tr>\n",
       "    <tr>\n",
       "      <th>1</th>\n",
       "      <td>95a9fe6f4810fcfc7ff244fd06784f11</td>\n",
       "      <td>076e5854a62dd283c253d6bae415af1f</td>\n",
       "      <td>NaN</td>\n",
       "      <td>NaN</td>\n",
       "      <td>Beauty &gt; Hair Care &gt; Hair Color &gt; Auburn Hair ...</td>\n",
       "      <td>Nice'n Easy</td>\n",
       "      <td>Nice n Easy Permanent Color, 111 Natural Mediu...</td>\n",
       "      <td>29.86</td>\n",
       "      <td>https://i5.walmartimages.com/asr/9c8e42e4-13a5...</td>\n",
       "      <td>Pack of 3 Pack of 3 for the UPC: 381519000201 ...</td>\n",
       "      <td>Nice 'n Easy Permanent Color, 111 Natural Medi...</td>\n",
       "    </tr>\n",
       "    <tr>\n",
       "      <th>2</th>\n",
       "      <td>8d4d0330178d3ed181b15a4102b287f2</td>\n",
       "      <td>8a4fe5d9c7a6ed26cc44d785a454b124</td>\n",
       "      <td>4.5</td>\n",
       "      <td>29221.0</td>\n",
       "      <td>Beauty &gt; Hair Care &gt; Hair Color &gt; Permanent Ha...</td>\n",
       "      <td>Clairol</td>\n",
       "      <td>Clairol Nice N Easy Permanent Color 7/106A Nat...</td>\n",
       "      <td>7.99</td>\n",
       "      <td>https://i5.walmartimages.com/asr/e3a601c2-6a2b...</td>\n",
       "      <td>This Clairol Nice N Easy Permanent Color gives...</td>\n",
       "      <td>Clairol Nice 'N Easy Permanent Color 7/106A Na...</td>\n",
       "    </tr>\n",
       "  </tbody>\n",
       "</table>\n",
       "</div>"
      ]
     },
     "execution_count": 4,
     "metadata": {},
     "output_type": "execute_result"
    }
   ],
   "execution_count": 4
  },
  {
   "metadata": {
    "ExecuteTime": {
     "end_time": "2025-01-09T17:54:28.621271Z",
     "start_time": "2025-01-09T17:54:28.616019Z"
    }
   },
   "cell_type": "code",
   "source": "train_data['Product Tags']",
   "id": "49e5c873dfd90fd4",
   "outputs": [
    {
     "data": {
      "text/plain": [
       "0       OPI Infinite Shine, Nail Lacquer Nail Polish, ...\n",
       "1       Nice 'n Easy Permanent Color, 111 Natural Medi...\n",
       "2       Clairol Nice 'N Easy Permanent Color 7/106A Na...\n",
       "3       Kokie Professional Matte Lipstick, Hot Berry, ...\n",
       "4       Gillette TRAC II Plus Razor Blade Refills, Fit...\n",
       "                              ...                        \n",
       "4995    Garden Mint Room Spray (Double Strength), 4 ou...\n",
       "4996    Garnier Nutrisse Nourishing Hair Color Creme (...\n",
       "4997    Nail File Electric Drill, 6 in 1 Professional ...\n",
       "4998    Creed Love In Black Hair And Body Wash 6.8oz/2...\n",
       "4999                    Foundation, Wal-mart, Walmart.com\n",
       "Name: Product Tags, Length: 5000, dtype: object"
      ]
     },
     "execution_count": 5,
     "metadata": {},
     "output_type": "execute_result"
    }
   ],
   "execution_count": 5
  },
  {
   "metadata": {
    "ExecuteTime": {
     "end_time": "2025-01-09T17:54:28.657009Z",
     "start_time": "2025-01-09T17:54:28.652431Z"
    }
   },
   "cell_type": "code",
   "source": "train_data.shape",
   "id": "11d0b2b02820ecfd",
   "outputs": [
    {
     "data": {
      "text/plain": [
       "(5000, 11)"
      ]
     },
     "execution_count": 6,
     "metadata": {},
     "output_type": "execute_result"
    }
   ],
   "execution_count": 6
  },
  {
   "metadata": {
    "ExecuteTime": {
     "end_time": "2025-01-09T17:54:28.709944Z",
     "start_time": "2025-01-09T17:54:28.700585Z"
    }
   },
   "cell_type": "code",
   "source": "train_data.info()",
   "id": "8e7509932cc1270f",
   "outputs": [
    {
     "name": "stdout",
     "output_type": "stream",
     "text": [
      "<class 'pandas.core.frame.DataFrame'>\n",
      "RangeIndex: 5000 entries, 0 to 4999\n",
      "Data columns (total 11 columns):\n",
      " #   Column                 Non-Null Count  Dtype  \n",
      "---  ------                 --------------  -----  \n",
      " 0   Uniq Id                5000 non-null   object \n",
      " 1   Product Id             5000 non-null   object \n",
      " 2   Product Rating         2194 non-null   float64\n",
      " 3   Product Reviews Count  3346 non-null   float64\n",
      " 4   Product Category       4990 non-null   object \n",
      " 5   Product Brand          4987 non-null   object \n",
      " 6   Product Name           5000 non-null   object \n",
      " 7   Product Price          4958 non-null   float64\n",
      " 8   Product Image Url      5000 non-null   object \n",
      " 9   Product Description    3873 non-null   object \n",
      " 10  Product Tags           5000 non-null   object \n",
      "dtypes: float64(3), object(8)\n",
      "memory usage: 429.8+ KB\n"
     ]
    }
   ],
   "execution_count": 7
  },
  {
   "metadata": {
    "ExecuteTime": {
     "end_time": "2025-01-09T17:54:28.744839Z",
     "start_time": "2025-01-09T17:54:28.737920Z"
    }
   },
   "cell_type": "code",
   "source": [
    "# Handling with missing value\n",
    "train_data.isnull().sum()"
   ],
   "id": "e921bc282cd31ae8",
   "outputs": [
    {
     "data": {
      "text/plain": [
       "Uniq Id                     0\n",
       "Product Id                  0\n",
       "Product Rating           2806\n",
       "Product Reviews Count    1654\n",
       "Product Category           10\n",
       "Product Brand              13\n",
       "Product Name                0\n",
       "Product Price              42\n",
       "Product Image Url           0\n",
       "Product Description      1127\n",
       "Product Tags                0\n",
       "dtype: int64"
      ]
     },
     "execution_count": 8,
     "metadata": {},
     "output_type": "execute_result"
    }
   ],
   "execution_count": 8
  },
  {
   "metadata": {},
   "cell_type": "markdown",
   "source": "## Fill null value",
   "id": "df060bf14e7d7309"
  },
  {
   "metadata": {
    "ExecuteTime": {
     "end_time": "2025-01-09T17:54:28.793830Z",
     "start_time": "2025-01-09T17:54:28.784823Z"
    }
   },
   "cell_type": "code",
   "source": [
    "train_data = train_data.dropna(subset=['Product Price'])\n",
    "# Fill missing values in 'Product Rating' with a default value (e.g., 0)\n",
    "train_data['Product Rating'] = train_data['Product Rating'].fillna(0)\n",
    "\n",
    "# Fill missing values in 'Product Reviews Count' with a default value (e.g., 0)\n",
    "train_data['Product Reviews Count'] = train_data['Product Reviews Count'].fillna(0)\n",
    "\n",
    "# Fill missing values in 'Product Category' with a default value (e.g., 'Unknown')\n",
    "train_data['Product Category'] = train_data['Product Category'].fillna('')\n",
    "\n",
    "# Fill missing values in 'Product Brand' with a default value (e.g., 'Unknown')\n",
    "train_data['Product Brand'] = train_data['Product Brand'].fillna('')\n",
    "\n",
    "# Fill missing values in 'Product Description' with an empty string\n",
    "train_data['Product Description'] = train_data['Product Description'].fillna('')"
   ],
   "id": "9560b17504739976",
   "outputs": [],
   "execution_count": 9
  },
  {
   "metadata": {
    "ExecuteTime": {
     "end_time": "2025-01-09T17:54:28.825132Z",
     "start_time": "2025-01-09T17:54:28.817264Z"
    }
   },
   "cell_type": "code",
   "source": "train_data.isnull().sum()",
   "id": "96282b31c80a4165",
   "outputs": [
    {
     "data": {
      "text/plain": [
       "Uniq Id                  0\n",
       "Product Id               0\n",
       "Product Rating           0\n",
       "Product Reviews Count    0\n",
       "Product Category         0\n",
       "Product Brand            0\n",
       "Product Name             0\n",
       "Product Price            0\n",
       "Product Image Url        0\n",
       "Product Description      0\n",
       "Product Tags             0\n",
       "dtype: int64"
      ]
     },
     "execution_count": 10,
     "metadata": {},
     "output_type": "execute_result"
    }
   ],
   "execution_count": 10
  },
  {
   "metadata": {
    "ExecuteTime": {
     "end_time": "2025-01-09T17:54:28.888719Z",
     "start_time": "2025-01-09T17:54:28.865073Z"
    }
   },
   "cell_type": "code",
   "source": "train_data.duplicated().sum()",
   "id": "8587c0e7f0141b1c",
   "outputs": [
    {
     "data": {
      "text/plain": [
       "np.int64(0)"
      ]
     },
     "execution_count": 11,
     "metadata": {},
     "output_type": "execute_result"
    }
   ],
   "execution_count": 11
  },
  {
   "metadata": {},
   "cell_type": "markdown",
   "source": "## Rename column",
   "id": "a9f8bbc03fe2bba0"
  },
  {
   "metadata": {
    "ExecuteTime": {
     "end_time": "2025-01-09T17:54:28.920650Z",
     "start_time": "2025-01-09T17:54:28.909612Z"
    }
   },
   "cell_type": "code",
   "source": [
    "# make columns shorter\n",
    "# Define the mapping of current column names to shorter names\n",
    "column_name_mapping = {\n",
    "    'Uniq Id': 'ID',\n",
    "    'Product Id': 'ProdID',\n",
    "    'Product Rating': 'Rating',\n",
    "    'Product Reviews Count': 'ReviewCount',\n",
    "    'Product Category': 'Category',\n",
    "    'Product Brand': 'Brand',\n",
    "    'Product Name': 'Name',\n",
    "    'Product Price': 'Price',\n",
    "    'Product Image Url': 'ImageURL',\n",
    "    'Product Description': 'Description',\n",
    "    'Product Tags': 'Tags',\n",
    "    'Product Contents': 'Contents'    \n",
    "}\n",
    "# Rename the columns using the mapping\n",
    "train_data.rename(columns=column_name_mapping, inplace=True)"
   ],
   "id": "5a1b17b0584f4356",
   "outputs": [],
   "execution_count": 12
  },
  {
   "metadata": {
    "ExecuteTime": {
     "end_time": "2025-01-09T17:54:28.940669Z",
     "start_time": "2025-01-09T17:54:28.925657Z"
    }
   },
   "cell_type": "code",
   "source": "train_data.info()",
   "id": "ba997707d9f74dbc",
   "outputs": [
    {
     "name": "stdout",
     "output_type": "stream",
     "text": [
      "<class 'pandas.core.frame.DataFrame'>\n",
      "Index: 4958 entries, 0 to 4999\n",
      "Data columns (total 11 columns):\n",
      " #   Column       Non-Null Count  Dtype  \n",
      "---  ------       --------------  -----  \n",
      " 0   ID           4958 non-null   object \n",
      " 1   ProdID       4958 non-null   object \n",
      " 2   Rating       4958 non-null   float64\n",
      " 3   ReviewCount  4958 non-null   float64\n",
      " 4   Category     4958 non-null   object \n",
      " 5   Brand        4958 non-null   object \n",
      " 6   Name         4958 non-null   object \n",
      " 7   Price        4958 non-null   float64\n",
      " 8   ImageURL     4958 non-null   object \n",
      " 9   Description  4958 non-null   object \n",
      " 10  Tags         4958 non-null   object \n",
      "dtypes: float64(3), object(8)\n",
      "memory usage: 464.8+ KB\n"
     ]
    }
   ],
   "execution_count": 13
  },
  {
   "metadata": {
    "ExecuteTime": {
     "end_time": "2025-01-09T17:54:28.965894Z",
     "start_time": "2025-01-09T17:54:28.947022Z"
    }
   },
   "cell_type": "code",
   "source": [
    "#change value to numeric \n",
    "train_data['ID'] = train_data['ID'].str.extract(r'(\\d+)').astype(float)\n",
    "train_data['ProdID'] = train_data['ProdID'].str.extract(r'(\\d+)').astype(float)"
   ],
   "id": "d5efd1898f9e9a1e",
   "outputs": [],
   "execution_count": 14
  },
  {
   "metadata": {},
   "cell_type": "markdown",
   "source": "## Creating tags ",
   "id": "b2c17ae9ac598bda"
  },
  {
   "metadata": {
    "ExecuteTime": {
     "end_time": "2025-01-09T17:54:37.034017Z",
     "start_time": "2025-01-09T17:54:28.972901Z"
    }
   },
   "cell_type": "code",
   "source": "!python -m spacy download en_core_web_sm",
   "id": "1e47a365e474d229",
   "outputs": [
    {
     "name": "stdout",
     "output_type": "stream",
     "text": [
      "Collecting en-core-web-sm==3.8.0\n",
      "  Downloading https://github.com/explosion/spacy-models/releases/download/en_core_web_sm-3.8.0/en_core_web_sm-3.8.0-py3-none-any.whl (12.8 MB)\n",
      "     ---------------------------------------- 0.0/12.8 MB ? eta -:--:--\n",
      "     --------------------------------------- 0.0/12.8 MB 330.3 kB/s eta 0:00:39\n",
      "     ---------------------------------------- 0.1/12.8 MB 1.2 MB/s eta 0:00:11\n",
      "      --------------------------------------- 0.3/12.8 MB 2.0 MB/s eta 0:00:07\n",
      "     - -------------------------------------- 0.6/12.8 MB 3.5 MB/s eta 0:00:04\n",
      "     -- ------------------------------------- 0.8/12.8 MB 3.8 MB/s eta 0:00:04\n",
      "     --- ------------------------------------ 1.1/12.8 MB 4.1 MB/s eta 0:00:03\n",
      "     ---- ----------------------------------- 1.4/12.8 MB 4.5 MB/s eta 0:00:03\n",
      "     ---- ----------------------------------- 1.6/12.8 MB 4.2 MB/s eta 0:00:03\n",
      "     ----- ---------------------------------- 1.9/12.8 MB 4.6 MB/s eta 0:00:03\n",
      "     ------ --------------------------------- 2.1/12.8 MB 4.5 MB/s eta 0:00:03\n",
      "     ------- -------------------------------- 2.4/12.8 MB 4.8 MB/s eta 0:00:03\n",
      "     -------- ------------------------------- 2.7/12.8 MB 4.7 MB/s eta 0:00:03\n",
      "     -------- ------------------------------- 2.8/12.8 MB 4.6 MB/s eta 0:00:03\n",
      "     --------- ------------------------------ 3.0/12.8 MB 4.7 MB/s eta 0:00:03\n",
      "     ---------- ----------------------------- 3.3/12.8 MB 4.7 MB/s eta 0:00:03\n",
      "     ----------- ---------------------------- 3.5/12.8 MB 4.7 MB/s eta 0:00:02\n",
      "     ----------- ---------------------------- 3.8/12.8 MB 4.8 MB/s eta 0:00:02\n",
      "     ------------ --------------------------- 4.0/12.8 MB 4.8 MB/s eta 0:00:02\n",
      "     ------------- -------------------------- 4.2/12.8 MB 4.7 MB/s eta 0:00:02\n",
      "     ------------- -------------------------- 4.4/12.8 MB 4.8 MB/s eta 0:00:02\n",
      "     ------------- -------------------------- 4.4/12.8 MB 4.8 MB/s eta 0:00:02\n",
      "     -------------- ------------------------- 4.6/12.8 MB 4.4 MB/s eta 0:00:02\n",
      "     -------------- ------------------------- 4.6/12.8 MB 4.4 MB/s eta 0:00:02\n",
      "     --------------- ------------------------ 4.8/12.8 MB 4.4 MB/s eta 0:00:02\n",
      "     --------------- ------------------------ 4.8/12.8 MB 4.4 MB/s eta 0:00:02\n",
      "     ---------------- ----------------------- 5.2/12.8 MB 4.2 MB/s eta 0:00:02\n",
      "     ---------------- ----------------------- 5.4/12.8 MB 4.3 MB/s eta 0:00:02\n",
      "     ----------------- ---------------------- 5.6/12.8 MB 4.2 MB/s eta 0:00:02\n",
      "     ----------------- ---------------------- 5.7/12.8 MB 4.2 MB/s eta 0:00:02\n",
      "     ------------------ --------------------- 5.9/12.8 MB 4.2 MB/s eta 0:00:02\n",
      "     ------------------- -------------------- 6.2/12.8 MB 4.2 MB/s eta 0:00:02\n",
      "     ------------------- -------------------- 6.4/12.8 MB 4.2 MB/s eta 0:00:02\n",
      "     -------------------- ------------------- 6.6/12.8 MB 4.3 MB/s eta 0:00:02\n",
      "     --------------------- ------------------ 6.7/12.8 MB 4.3 MB/s eta 0:00:02\n",
      "     --------------------- ------------------ 6.9/12.8 MB 4.3 MB/s eta 0:00:02\n",
      "     ---------------------- ----------------- 7.1/12.8 MB 4.2 MB/s eta 0:00:02\n",
      "     ---------------------- ----------------- 7.3/12.8 MB 4.2 MB/s eta 0:00:02\n",
      "     ----------------------- ---------------- 7.5/12.8 MB 4.2 MB/s eta 0:00:02\n",
      "     ----------------------- ---------------- 7.6/12.8 MB 4.1 MB/s eta 0:00:02\n",
      "     ------------------------ --------------- 7.9/12.8 MB 4.2 MB/s eta 0:00:02\n",
      "     ------------------------ --------------- 8.0/12.8 MB 4.1 MB/s eta 0:00:02\n",
      "     ------------------------- -------------- 8.2/12.8 MB 4.1 MB/s eta 0:00:02\n",
      "     -------------------------- ------------- 8.4/12.8 MB 4.2 MB/s eta 0:00:02\n",
      "     -------------------------- ------------- 8.6/12.8 MB 4.1 MB/s eta 0:00:02\n",
      "     --------------------------- ------------ 8.7/12.8 MB 4.1 MB/s eta 0:00:02\n",
      "     --------------------------- ------------ 8.9/12.8 MB 4.1 MB/s eta 0:00:01\n",
      "     ---------------------------- ----------- 9.2/12.8 MB 4.1 MB/s eta 0:00:01\n",
      "     ----------------------------- ---------- 9.4/12.8 MB 4.2 MB/s eta 0:00:01\n",
      "     ----------------------------- ---------- 9.6/12.8 MB 4.2 MB/s eta 0:00:01\n",
      "     ------------------------------ --------- 9.8/12.8 MB 4.2 MB/s eta 0:00:01\n",
      "     ------------------------------- -------- 10.0/12.8 MB 4.2 MB/s eta 0:00:01\n",
      "     -------------------------------- ------- 10.3/12.8 MB 4.3 MB/s eta 0:00:01\n",
      "     -------------------------------- ------- 10.5/12.8 MB 4.3 MB/s eta 0:00:01\n",
      "     --------------------------------- ------ 10.8/12.8 MB 4.3 MB/s eta 0:00:01\n",
      "     ---------------------------------- ----- 11.0/12.8 MB 4.3 MB/s eta 0:00:01\n",
      "     ----------------------------------- ---- 11.2/12.8 MB 4.3 MB/s eta 0:00:01\n",
      "     ----------------------------------- ---- 11.4/12.8 MB 4.3 MB/s eta 0:00:01\n",
      "     ------------------------------------ --- 11.6/12.8 MB 4.3 MB/s eta 0:00:01\n",
      "     ------------------------------------- -- 11.9/12.8 MB 4.3 MB/s eta 0:00:01\n",
      "     ------------------------------------- -- 12.0/12.8 MB 4.2 MB/s eta 0:00:01\n",
      "     ------------------------------------- -- 12.2/12.8 MB 4.2 MB/s eta 0:00:01\n",
      "     -------------------------------------- - 12.4/12.8 MB 4.2 MB/s eta 0:00:01\n",
      "     ---------------------------------------  12.7/12.8 MB 4.2 MB/s eta 0:00:01\n",
      "     ---------------------------------------  12.8/12.8 MB 4.2 MB/s eta 0:00:01\n",
      "     ---------------------------------------- 12.8/12.8 MB 4.1 MB/s eta 0:00:00\n",
      "\u001B[38;5;2m[+] Download and installation successful\u001B[0m\n",
      "You can now load the package via spacy.load('en_core_web_sm')\n"
     ]
    },
    {
     "name": "stderr",
     "output_type": "stream",
     "text": [
      "\n",
      "[notice] A new release of pip is available: 23.2.1 -> 24.3.1\n",
      "[notice] To update, run: python.exe -m pip install --upgrade pip\n"
     ]
    }
   ],
   "execution_count": 15
  },
  {
   "metadata": {
    "ExecuteTime": {
     "end_time": "2025-01-09T17:56:02.092059Z",
     "start_time": "2025-01-09T17:54:37.041274Z"
    }
   },
   "cell_type": "code",
   "source": [
    "import spacy\n",
    "from spacy.lang.en.stop_words import STOP_WORDS\n",
    "\n",
    "nlp = spacy.load(\"en_core_web_sm\")\n",
    "\n",
    "def clean_and_extract_tags(text):\n",
    "    doc = nlp(text.lower())\n",
    "    tags = [token.text for token in doc if token.text.isalnum() and token.text not in STOP_WORDS]\n",
    "    return ', '.join(tags)\n",
    "\n",
    "# List of columns to extract tags from, including 'Name'\n",
    "columns_to_extract_tags_from = ['Name', 'Category', 'Brand', 'Description']\n",
    "\n",
    "# Create new columns for cleaned tags\n",
    "for column in columns_to_extract_tags_from:\n",
    "    train_data[f'{column}_Tags'] = train_data[column].apply(clean_and_extract_tags)\n",
    "\n",
    "# Concatenate the cleaned tags from all relevant columns into a 'Tags' column\n",
    "train_data['Tags'] = train_data[[f'{col}_Tags' for col in columns_to_extract_tags_from]].apply(lambda row: ', '.join(row), axis=1)\n",
    "\n",
    "# Example of how the DataFrame looks after adding the new columns\n",
    "train_data.head()\n"
   ],
   "id": "9025cec5c2817e1e",
   "outputs": [
    {
     "data": {
      "text/plain": [
       "             ID  ProdID  Rating  ReviewCount  \\\n",
       "0  1.705737e+09     2.0     0.0          0.0   \n",
       "1  9.500000e+01    76.0     0.0          0.0   \n",
       "2  8.000000e+00     8.0     4.5      29221.0   \n",
       "3  4.000000e+00     3.0     0.0          0.0   \n",
       "4  9.900000e+02     3.0     0.0        131.0   \n",
       "\n",
       "                                            Category            Brand  \\\n",
       "0  Premium Beauty > Premium Makeup > Premium Nail...              OPI   \n",
       "1  Beauty > Hair Care > Hair Color > Auburn Hair ...      Nice'n Easy   \n",
       "2  Beauty > Hair Care > Hair Color > Permanent Ha...          Clairol   \n",
       "3                              Beauty > Makeup > Lip  Kokie Cosmetics   \n",
       "4  Seasonal > Stock Up Essentials > Personal Care...         Gillette   \n",
       "\n",
       "                                                Name  Price  \\\n",
       "0  OPI Infinite Shine, Nail Lacquer Nail Polish, ...   8.95   \n",
       "1  Nice n Easy Permanent Color, 111 Natural Mediu...  29.86   \n",
       "2  Clairol Nice N Easy Permanent Color 7/106A Nat...   7.99   \n",
       "3  Kokie Professional Matte Lipstick, Hot Berry, ...   5.16   \n",
       "4  Gillette TRAC II Plus Razor Blade Refills, Fit...  19.97   \n",
       "\n",
       "                                            ImageURL  \\\n",
       "0  https://i5.walmartimages.com/asr/0e1f4c51-c1a4...   \n",
       "1  https://i5.walmartimages.com/asr/9c8e42e4-13a5...   \n",
       "2  https://i5.walmartimages.com/asr/e3a601c2-6a2b...   \n",
       "3  https://i5.walmartimages.com/asr/25b4b467-bc61...   \n",
       "4  https://i5.walmartimages.com/asr/1a2ebb06-cd01...   \n",
       "\n",
       "                                         Description  \\\n",
       "0                                                      \n",
       "1  Pack of 3 Pack of 3 for the UPC: 381519000201 ...   \n",
       "2  This Clairol Nice N Easy Permanent Color gives...   \n",
       "3  Calling all matte lip lovers! Indulge in our r...   \n",
       "4  In 1971, Gillette introduced the Trac II razor...   \n",
       "\n",
       "                                                Tags  \\\n",
       "0  opi, infinite, shine, nail, lacquer, nail, pol...   \n",
       "1  nice, n, easy, permanent, color, 111, natural,...   \n",
       "2  clairol, nice, n, easy, permanent, color, natu...   \n",
       "3  kokie, professional, matte, lipstick, hot, ber...   \n",
       "4  gillette, trac, ii, plus, razor, blade, refill...   \n",
       "\n",
       "                                           Name_Tags  \\\n",
       "0  opi, infinite, shine, nail, lacquer, nail, pol...   \n",
       "1  nice, n, easy, permanent, color, 111, natural,...   \n",
       "2  clairol, nice, n, easy, permanent, color, natu...   \n",
       "3  kokie, professional, matte, lipstick, hot, ber...   \n",
       "4  gillette, trac, ii, plus, razor, blade, refill...   \n",
       "\n",
       "                                       Category_Tags        Brand_Tags  \\\n",
       "0  premium, beauty, premium, makeup, premium, nai...               opi   \n",
       "1  beauty, hair, care, hair, color, auburn, hair,...              easy   \n",
       "2  beauty, hair, care, hair, color, permanent, ha...           clairol   \n",
       "3                                beauty, makeup, lip  kokie, cosmetics   \n",
       "4  seasonal, stock, essentials, personal, care, s...          gillette   \n",
       "\n",
       "                                    Description_Tags  \n",
       "0                                                     \n",
       "1  pack, 3, pack, 3, upc, 381519000201, beautiful...  \n",
       "2  clairol, nice, n, easy, permanent, color, give...  \n",
       "3  calling, matte, lip, lovers, indulge, rich, cr...  \n",
       "4  1971, gillette, introduced, trac, ii, razor, s...  "
      ],
      "text/html": [
       "<div>\n",
       "<style scoped>\n",
       "    .dataframe tbody tr th:only-of-type {\n",
       "        vertical-align: middle;\n",
       "    }\n",
       "\n",
       "    .dataframe tbody tr th {\n",
       "        vertical-align: top;\n",
       "    }\n",
       "\n",
       "    .dataframe thead th {\n",
       "        text-align: right;\n",
       "    }\n",
       "</style>\n",
       "<table border=\"1\" class=\"dataframe\">\n",
       "  <thead>\n",
       "    <tr style=\"text-align: right;\">\n",
       "      <th></th>\n",
       "      <th>ID</th>\n",
       "      <th>ProdID</th>\n",
       "      <th>Rating</th>\n",
       "      <th>ReviewCount</th>\n",
       "      <th>Category</th>\n",
       "      <th>Brand</th>\n",
       "      <th>Name</th>\n",
       "      <th>Price</th>\n",
       "      <th>ImageURL</th>\n",
       "      <th>Description</th>\n",
       "      <th>Tags</th>\n",
       "      <th>Name_Tags</th>\n",
       "      <th>Category_Tags</th>\n",
       "      <th>Brand_Tags</th>\n",
       "      <th>Description_Tags</th>\n",
       "    </tr>\n",
       "  </thead>\n",
       "  <tbody>\n",
       "    <tr>\n",
       "      <th>0</th>\n",
       "      <td>1.705737e+09</td>\n",
       "      <td>2.0</td>\n",
       "      <td>0.0</td>\n",
       "      <td>0.0</td>\n",
       "      <td>Premium Beauty &gt; Premium Makeup &gt; Premium Nail...</td>\n",
       "      <td>OPI</td>\n",
       "      <td>OPI Infinite Shine, Nail Lacquer Nail Polish, ...</td>\n",
       "      <td>8.95</td>\n",
       "      <td>https://i5.walmartimages.com/asr/0e1f4c51-c1a4...</td>\n",
       "      <td></td>\n",
       "      <td>opi, infinite, shine, nail, lacquer, nail, pol...</td>\n",
       "      <td>opi, infinite, shine, nail, lacquer, nail, pol...</td>\n",
       "      <td>premium, beauty, premium, makeup, premium, nai...</td>\n",
       "      <td>opi</td>\n",
       "      <td></td>\n",
       "    </tr>\n",
       "    <tr>\n",
       "      <th>1</th>\n",
       "      <td>9.500000e+01</td>\n",
       "      <td>76.0</td>\n",
       "      <td>0.0</td>\n",
       "      <td>0.0</td>\n",
       "      <td>Beauty &gt; Hair Care &gt; Hair Color &gt; Auburn Hair ...</td>\n",
       "      <td>Nice'n Easy</td>\n",
       "      <td>Nice n Easy Permanent Color, 111 Natural Mediu...</td>\n",
       "      <td>29.86</td>\n",
       "      <td>https://i5.walmartimages.com/asr/9c8e42e4-13a5...</td>\n",
       "      <td>Pack of 3 Pack of 3 for the UPC: 381519000201 ...</td>\n",
       "      <td>nice, n, easy, permanent, color, 111, natural,...</td>\n",
       "      <td>nice, n, easy, permanent, color, 111, natural,...</td>\n",
       "      <td>beauty, hair, care, hair, color, auburn, hair,...</td>\n",
       "      <td>easy</td>\n",
       "      <td>pack, 3, pack, 3, upc, 381519000201, beautiful...</td>\n",
       "    </tr>\n",
       "    <tr>\n",
       "      <th>2</th>\n",
       "      <td>8.000000e+00</td>\n",
       "      <td>8.0</td>\n",
       "      <td>4.5</td>\n",
       "      <td>29221.0</td>\n",
       "      <td>Beauty &gt; Hair Care &gt; Hair Color &gt; Permanent Ha...</td>\n",
       "      <td>Clairol</td>\n",
       "      <td>Clairol Nice N Easy Permanent Color 7/106A Nat...</td>\n",
       "      <td>7.99</td>\n",
       "      <td>https://i5.walmartimages.com/asr/e3a601c2-6a2b...</td>\n",
       "      <td>This Clairol Nice N Easy Permanent Color gives...</td>\n",
       "      <td>clairol, nice, n, easy, permanent, color, natu...</td>\n",
       "      <td>clairol, nice, n, easy, permanent, color, natu...</td>\n",
       "      <td>beauty, hair, care, hair, color, permanent, ha...</td>\n",
       "      <td>clairol</td>\n",
       "      <td>clairol, nice, n, easy, permanent, color, give...</td>\n",
       "    </tr>\n",
       "    <tr>\n",
       "      <th>3</th>\n",
       "      <td>4.000000e+00</td>\n",
       "      <td>3.0</td>\n",
       "      <td>0.0</td>\n",
       "      <td>0.0</td>\n",
       "      <td>Beauty &gt; Makeup &gt; Lip</td>\n",
       "      <td>Kokie Cosmetics</td>\n",
       "      <td>Kokie Professional Matte Lipstick, Hot Berry, ...</td>\n",
       "      <td>5.16</td>\n",
       "      <td>https://i5.walmartimages.com/asr/25b4b467-bc61...</td>\n",
       "      <td>Calling all matte lip lovers! Indulge in our r...</td>\n",
       "      <td>kokie, professional, matte, lipstick, hot, ber...</td>\n",
       "      <td>kokie, professional, matte, lipstick, hot, ber...</td>\n",
       "      <td>beauty, makeup, lip</td>\n",
       "      <td>kokie, cosmetics</td>\n",
       "      <td>calling, matte, lip, lovers, indulge, rich, cr...</td>\n",
       "    </tr>\n",
       "    <tr>\n",
       "      <th>4</th>\n",
       "      <td>9.900000e+02</td>\n",
       "      <td>3.0</td>\n",
       "      <td>0.0</td>\n",
       "      <td>131.0</td>\n",
       "      <td>Seasonal &gt; Stock Up Essentials &gt; Personal Care...</td>\n",
       "      <td>Gillette</td>\n",
       "      <td>Gillette TRAC II Plus Razor Blade Refills, Fit...</td>\n",
       "      <td>19.97</td>\n",
       "      <td>https://i5.walmartimages.com/asr/1a2ebb06-cd01...</td>\n",
       "      <td>In 1971, Gillette introduced the Trac II razor...</td>\n",
       "      <td>gillette, trac, ii, plus, razor, blade, refill...</td>\n",
       "      <td>gillette, trac, ii, plus, razor, blade, refill...</td>\n",
       "      <td>seasonal, stock, essentials, personal, care, s...</td>\n",
       "      <td>gillette</td>\n",
       "      <td>1971, gillette, introduced, trac, ii, razor, s...</td>\n",
       "    </tr>\n",
       "  </tbody>\n",
       "</table>\n",
       "</div>"
      ]
     },
     "execution_count": 16,
     "metadata": {},
     "output_type": "execute_result"
    }
   ],
   "execution_count": 16
  },
  {
   "metadata": {
    "ExecuteTime": {
     "end_time": "2025-01-09T17:56:02.132279Z",
     "start_time": "2025-01-09T17:56:02.127372Z"
    }
   },
   "cell_type": "code",
   "source": "train_data.columns",
   "id": "11ce725e638f3889",
   "outputs": [
    {
     "data": {
      "text/plain": [
       "Index(['ID', 'ProdID', 'Rating', 'ReviewCount', 'Category', 'Brand', 'Name',\n",
       "       'Price', 'ImageURL', 'Description', 'Tags', 'Name_Tags',\n",
       "       'Category_Tags', 'Brand_Tags', 'Description_Tags'],\n",
       "      dtype='object')"
      ]
     },
     "execution_count": 17,
     "metadata": {},
     "output_type": "execute_result"
    }
   ],
   "execution_count": 17
  },
  {
   "metadata": {
    "ExecuteTime": {
     "end_time": "2025-01-09T17:56:02.310694Z",
     "start_time": "2025-01-09T17:56:02.170598Z"
    }
   },
   "cell_type": "code",
   "source": [
    "train_data=train_data[['ID', 'ProdID', 'Rating', 'ReviewCount', 'Category', 'Brand', 'Name',\n",
    "       'Price', 'ImageURL', 'Description', 'Tags']]\n",
    "\n",
    "\n",
    "train_data.to_csv('data/clean_data.csv', index=True)\n",
    "\n"
   ],
   "id": "dcb7e65b9222bf26",
   "outputs": [],
   "execution_count": 18
  }
 ],
 "metadata": {
  "kernelspec": {
   "display_name": "Python 3",
   "language": "python",
   "name": "python3"
  },
  "language_info": {
   "codemirror_mode": {
    "name": "ipython",
    "version": 2
   },
   "file_extension": ".py",
   "mimetype": "text/x-python",
   "name": "python",
   "nbconvert_exporter": "python",
   "pygments_lexer": "ipython2",
   "version": "2.7.6"
  }
 },
 "nbformat": 4,
 "nbformat_minor": 5
}
