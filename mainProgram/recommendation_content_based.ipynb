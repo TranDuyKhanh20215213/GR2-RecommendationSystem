{
 "cells": [
  {
   "cell_type": "markdown",
   "id": "0faab4e5",
   "metadata": {},
   "source": "# Step 1: Import library "
  },
  {
   "cell_type": "code",
   "id": "ec40a842",
   "metadata": {
    "ExecuteTime": {
     "end_time": "2025-01-08T15:34:19.623770Z",
     "start_time": "2025-01-08T15:34:14.357066Z"
    }
   },
   "source": [
    "#Importing necessary libraries\n",
    "import pandas as pd\n",
    "import numpy as np\n",
    "import matplotlib.pyplot as plt\n",
    "import seaborn as sns\n",
    "from sklearn.metrics.pairwise import cosine_similarity\n",
    "from sklearn.feature_extraction.text import TfidfVectorizer\n",
    "import os\n",
    "from scipy.sparse import coo_matrix\n",
    "from spacy.cli.train import train"
   ],
   "outputs": [],
   "execution_count": 1
  },
  {
   "cell_type": "code",
   "id": "637a449c",
   "metadata": {
    "ExecuteTime": {
     "end_time": "2025-01-08T15:34:23.030430Z",
     "start_time": "2025-01-08T15:34:23.027366Z"
    }
   },
   "source": [],
   "outputs": [],
   "execution_count": null
  },
  {
   "metadata": {
    "ExecuteTime": {
     "end_time": "2025-01-08T15:40:05.749930Z",
     "start_time": "2025-01-08T15:40:05.746705Z"
    }
   },
   "cell_type": "code",
   "source": "",
   "id": "a2b078266a59a137",
   "outputs": [],
   "execution_count": null
  },
  {
   "cell_type": "markdown",
   "id": "844cf03c",
   "metadata": {},
   "source": "# Trending Product Recommendations System"
  },
  {
   "metadata": {
    "ExecuteTime": {
     "end_time": "2025-01-08T15:40:06.116953Z",
     "start_time": "2025-01-08T15:40:05.902956Z"
    }
   },
   "cell_type": "code",
   "source": "train_data = pd.read_csv('data/clean_data.csv')",
   "id": "a4022b9821f2d7fe",
   "outputs": [],
   "execution_count": 27
  },
  {
   "cell_type": "code",
   "id": "687758ba",
   "metadata": {
    "ExecuteTime": {
     "end_time": "2025-01-08T15:40:06.235609Z",
     "start_time": "2025-01-08T15:40:06.170698Z"
    }
   },
   "source": [
    "def rating_based_recommendation(data, top_n=10):\n",
    "    # Calculate average ratings, sort, and select top n items\n",
    "    top_rated_items = (\n",
    "        data.groupby(['Name', 'ReviewCount', 'Brand', 'ImageURL'])['Rating']\n",
    "        .mean().reset_index()\n",
    "        .sort_values(by=['Rating', 'ReviewCount'], ascending=[False, False])\n",
    "        .head(top_n)\n",
    "    )\n",
    "\n",
    "    # Convert to integer and merge to get all columns, then select necessary columns\n",
    "    top_rated_items[['Rating', 'ReviewCount']] = top_rated_items[['Rating', 'ReviewCount']].astype(int)\n",
    "    return top_rated_items.merge(data, on=['Name', 'Rating', 'ReviewCount', 'Brand', 'ImageURL'], how='left')[\n",
    "        ['Name', 'ImageURL', 'Brand', 'Rating', 'ReviewCount', 'Description', 'Price']\n",
    "    ]\n",
    "\n",
    "# Example usage\n",
    "# Assuming `train_data` is your DataFrame with columns: Name, ReviewCount, Brand, ImageURL, Rating, Description, Price\n",
    "top_rated_items = rating_based_recommendation(train_data, 10)\n",
    "\n",
    "# save the data to a new file ('data/trending_new.csv')\n",
    "top_rated_items.to_csv('data/trending_new.csv', index=False)\n",
    "\n",
    "\n",
    "top_rated_items"
   ],
   "outputs": [
    {
     "name": "stderr",
     "output_type": "stream",
     "text": [
      "C:\\Users\\PC\\AppData\\Local\\Temp\\ipykernel_13280\\3807675032.py:12: UserWarning: You are merging on int and float columns where the float values are not equal to their int representation.\n",
      "  return top_rated_items.merge(data, on=['Name', 'Rating', 'ReviewCount', 'Brand', 'ImageURL'], how='left')[\n"
     ]
    },
    {
     "data": {
      "text/plain": [
       "                                                Name  \\\n",
       "0  ACT Braces Care Anticavity Mouthwash (18 Oz, C...   \n",
       "1  Versace Man Eau Fraiche Eau De Toilette Spray,...   \n",
       "2  Tree Hut Shea Sugar Scrub Passion Fruit & Guav...   \n",
       "3  Biolage Hydrasource Conditioning Balm For Dry ...   \n",
       "4              Ardell Double Up False Eyelashes, 203   \n",
       "5  Hello Kids Fluoride Free and SLS Free Rinse, N...   \n",
       "6         ReNew Life CleanseMore, Veggie Caps, 60 ea   \n",
       "7    (2 Pack) Pro Styl Vitamin &quotE&quot Oil, 6 Oz   \n",
       "8  Aura Cacia Essential Oil Frankincense 0.5 fl o...   \n",
       "9  Clay-Park Labs Ammonium Lactate Lotion 12% 14 ...   \n",
       "\n",
       "                                            ImageURL           Brand  Rating  \\\n",
       "0  https://i5.walmartimages.com/asr/a7fa6e41-316f...             ACT       5   \n",
       "1  https://i5.walmartimages.com/asr/edaaeed5-9da0...         Versace       5   \n",
       "2  https://i5.walmartimages.com/asr/be83d31d-81cf...        Tree Hut       5   \n",
       "3  https://i5.walmartimages.com/asr/4a0904fb-a101...          Matrix       5   \n",
       "4  https://i5.walmartimages.com/asr/7c7534ab-b6ea...          Ardell       5   \n",
       "5  https://i5.walmartimages.com/asr/6998ff2c-58be...           Hello       5   \n",
       "6  https://i5.walmartimages.com/asr/9f707fe4-9ee3...      Renew Life       5   \n",
       "7  https://i5.walmartimages.com/asr/b31a925f-cb2a...          V.I.P.       5   \n",
       "8  https://i5.walmartimages.com/asr/d5261a71-0787...      Aura Cacia       5   \n",
       "9  https://i5.walmartimages.com/asr/b3d5462d-d067...  Clay-Park Labs       5   \n",
       "\n",
       "   ReviewCount                                        Description  Price  \n",
       "0           32  Got braces? Start ACTing to help prevent cavit...   3.98  \n",
       "1           24                                                NaN  30.00  \n",
       "2           22  Enjoy this gentle exfoliator, the Tree Hut She...   6.48  \n",
       "3           21                                                NaN  18.99  \n",
       "4           19  New Ardell Double Up lashes are two pairs of e...   8.28  \n",
       "5           19  Say hello to naturally friendly kids fluoride ...  13.49  \n",
       "6           15  Herbal & Mineral FormulaWorks OvernightBrings ...  15.55  \n",
       "7           13                                                NaN   6.83  \n",
       "8           13  Frankincense oil is a traditional favorite tha...   7.00  \n",
       "9           13  Pack of 3 for the UPC: 081642525267 Pearigo Am...  73.55  "
      ],
      "text/html": [
       "<div>\n",
       "<style scoped>\n",
       "    .dataframe tbody tr th:only-of-type {\n",
       "        vertical-align: middle;\n",
       "    }\n",
       "\n",
       "    .dataframe tbody tr th {\n",
       "        vertical-align: top;\n",
       "    }\n",
       "\n",
       "    .dataframe thead th {\n",
       "        text-align: right;\n",
       "    }\n",
       "</style>\n",
       "<table border=\"1\" class=\"dataframe\">\n",
       "  <thead>\n",
       "    <tr style=\"text-align: right;\">\n",
       "      <th></th>\n",
       "      <th>Name</th>\n",
       "      <th>ImageURL</th>\n",
       "      <th>Brand</th>\n",
       "      <th>Rating</th>\n",
       "      <th>ReviewCount</th>\n",
       "      <th>Description</th>\n",
       "      <th>Price</th>\n",
       "    </tr>\n",
       "  </thead>\n",
       "  <tbody>\n",
       "    <tr>\n",
       "      <th>0</th>\n",
       "      <td>ACT Braces Care Anticavity Mouthwash (18 Oz, C...</td>\n",
       "      <td>https://i5.walmartimages.com/asr/a7fa6e41-316f...</td>\n",
       "      <td>ACT</td>\n",
       "      <td>5</td>\n",
       "      <td>32</td>\n",
       "      <td>Got braces? Start ACTing to help prevent cavit...</td>\n",
       "      <td>3.98</td>\n",
       "    </tr>\n",
       "    <tr>\n",
       "      <th>1</th>\n",
       "      <td>Versace Man Eau Fraiche Eau De Toilette Spray,...</td>\n",
       "      <td>https://i5.walmartimages.com/asr/edaaeed5-9da0...</td>\n",
       "      <td>Versace</td>\n",
       "      <td>5</td>\n",
       "      <td>24</td>\n",
       "      <td>NaN</td>\n",
       "      <td>30.00</td>\n",
       "    </tr>\n",
       "    <tr>\n",
       "      <th>2</th>\n",
       "      <td>Tree Hut Shea Sugar Scrub Passion Fruit &amp; Guav...</td>\n",
       "      <td>https://i5.walmartimages.com/asr/be83d31d-81cf...</td>\n",
       "      <td>Tree Hut</td>\n",
       "      <td>5</td>\n",
       "      <td>22</td>\n",
       "      <td>Enjoy this gentle exfoliator, the Tree Hut She...</td>\n",
       "      <td>6.48</td>\n",
       "    </tr>\n",
       "    <tr>\n",
       "      <th>3</th>\n",
       "      <td>Biolage Hydrasource Conditioning Balm For Dry ...</td>\n",
       "      <td>https://i5.walmartimages.com/asr/4a0904fb-a101...</td>\n",
       "      <td>Matrix</td>\n",
       "      <td>5</td>\n",
       "      <td>21</td>\n",
       "      <td>NaN</td>\n",
       "      <td>18.99</td>\n",
       "    </tr>\n",
       "    <tr>\n",
       "      <th>4</th>\n",
       "      <td>Ardell Double Up False Eyelashes, 203</td>\n",
       "      <td>https://i5.walmartimages.com/asr/7c7534ab-b6ea...</td>\n",
       "      <td>Ardell</td>\n",
       "      <td>5</td>\n",
       "      <td>19</td>\n",
       "      <td>New Ardell Double Up lashes are two pairs of e...</td>\n",
       "      <td>8.28</td>\n",
       "    </tr>\n",
       "    <tr>\n",
       "      <th>5</th>\n",
       "      <td>Hello Kids Fluoride Free and SLS Free Rinse, N...</td>\n",
       "      <td>https://i5.walmartimages.com/asr/6998ff2c-58be...</td>\n",
       "      <td>Hello</td>\n",
       "      <td>5</td>\n",
       "      <td>19</td>\n",
       "      <td>Say hello to naturally friendly kids fluoride ...</td>\n",
       "      <td>13.49</td>\n",
       "    </tr>\n",
       "    <tr>\n",
       "      <th>6</th>\n",
       "      <td>ReNew Life CleanseMore, Veggie Caps, 60 ea</td>\n",
       "      <td>https://i5.walmartimages.com/asr/9f707fe4-9ee3...</td>\n",
       "      <td>Renew Life</td>\n",
       "      <td>5</td>\n",
       "      <td>15</td>\n",
       "      <td>Herbal &amp; Mineral FormulaWorks OvernightBrings ...</td>\n",
       "      <td>15.55</td>\n",
       "    </tr>\n",
       "    <tr>\n",
       "      <th>7</th>\n",
       "      <td>(2 Pack) Pro Styl Vitamin &amp;quotE&amp;quot Oil, 6 Oz</td>\n",
       "      <td>https://i5.walmartimages.com/asr/b31a925f-cb2a...</td>\n",
       "      <td>V.I.P.</td>\n",
       "      <td>5</td>\n",
       "      <td>13</td>\n",
       "      <td>NaN</td>\n",
       "      <td>6.83</td>\n",
       "    </tr>\n",
       "    <tr>\n",
       "      <th>8</th>\n",
       "      <td>Aura Cacia Essential Oil Frankincense 0.5 fl o...</td>\n",
       "      <td>https://i5.walmartimages.com/asr/d5261a71-0787...</td>\n",
       "      <td>Aura Cacia</td>\n",
       "      <td>5</td>\n",
       "      <td>13</td>\n",
       "      <td>Frankincense oil is a traditional favorite tha...</td>\n",
       "      <td>7.00</td>\n",
       "    </tr>\n",
       "    <tr>\n",
       "      <th>9</th>\n",
       "      <td>Clay-Park Labs Ammonium Lactate Lotion 12% 14 ...</td>\n",
       "      <td>https://i5.walmartimages.com/asr/b3d5462d-d067...</td>\n",
       "      <td>Clay-Park Labs</td>\n",
       "      <td>5</td>\n",
       "      <td>13</td>\n",
       "      <td>Pack of 3 for the UPC: 081642525267 Pearigo Am...</td>\n",
       "      <td>73.55</td>\n",
       "    </tr>\n",
       "  </tbody>\n",
       "</table>\n",
       "</div>"
      ]
     },
     "execution_count": 28,
     "metadata": {},
     "output_type": "execute_result"
    }
   ],
   "execution_count": 28
  },
  {
   "cell_type": "markdown",
   "id": "d6c86fcf",
   "metadata": {},
   "source": [
    "# Content Base Recommendation system (User Preferences or Items similarities)"
   ]
  },
  {
   "metadata": {
    "ExecuteTime": {
     "end_time": "2025-01-08T15:40:06.403142Z",
     "start_time": "2025-01-08T15:40:06.393762Z"
    }
   },
   "cell_type": "code",
   "source": "train_data['Tags']",
   "id": "c6899891356ff7ae",
   "outputs": [
    {
     "data": {
      "text/plain": [
       "0       opi, infinite, shine, nail, lacquer, nail, pol...\n",
       "1       nice, n, easy, permanent, color, 111, natural,...\n",
       "2       clairol, nice, n, easy, permanent, color, natu...\n",
       "3       kokie, professional, matte, lipstick, hot, ber...\n",
       "4       gillette, trac, ii, plus, razor, blade, refill...\n",
       "                              ...                        \n",
       "4953    garden, mint, room, spray, double, strength, 4...\n",
       "4954    garnier, nutrisse, nourishing, hair, color, cr...\n",
       "4955    nail, file, electric, drill, 6, 1, professiona...\n",
       "4956    creed, love, black, hair, body, wash, new, box...\n",
       "4957    foundation, beauty, makeup, face, makeup, face...\n",
       "Name: Tags, Length: 4958, dtype: object"
      ]
     },
     "execution_count": 29,
     "metadata": {},
     "output_type": "execute_result"
    }
   ],
   "execution_count": 29
  },
  {
   "cell_type": "markdown",
   "id": "6d143b78",
   "metadata": {},
   "source": [
    "# Function To Recommend Products for Content Base"
   ]
  },
  {
   "cell_type": "code",
   "id": "06226aae",
   "metadata": {
    "ExecuteTime": {
     "end_time": "2025-01-08T15:40:06.622591Z",
     "start_time": "2025-01-08T15:40:06.611946Z"
    }
   },
   "source": [
    "from sklearn.feature_extraction.text import TfidfVectorizer\n",
    "from sklearn.metrics.pairwise import cosine_similarity\n",
    "\n",
    "\"\"\"\n",
    "Train Data columns: \n",
    "['ID', 'ProdID', 'Rating', 'ReviewCount', 'Category', 'Brand', 'Name',\n",
    "       'Price', 'ImageURL', 'Description', 'Tags']\n",
    "\"\"\"\n",
    "\n",
    "def content_based_recommendations(data, item_name, top_n=10 ,useful_score = 0.7):\n",
    "    # Check if the item name exists in the training data\n",
    "    if item_name not in data['Name'].values:\n",
    "        print(f\"Item '{item_name}' not found in the training data.\")\n",
    "        return pd.DataFrame(), 0.0\n",
    "\n",
    "    # Create a TF-IDF vectorizer for item descriptions\n",
    "    tfidf_vectorizer = TfidfVectorizer(stop_words='english')\n",
    "\n",
    "    # Apply TF-IDF vectorization to item descriptions\n",
    "    tfidf_matrix_content = tfidf_vectorizer.fit_transform(data['Tags'])\n",
    "\n",
    "    # Calculate cosine similarity between items based on descriptions\n",
    "    cosine_similarities_content = cosine_similarity(tfidf_matrix_content, tfidf_matrix_content)\n",
    "\n",
    "    # Find the index of the item\n",
    "    item_index = data[data['Name'] == item_name].index[0]\n",
    "\n",
    "    # Get the cosine similarity scores for the item\n",
    "    similar_items = list(enumerate(cosine_similarities_content[item_index]))\n",
    "\n",
    "    # Sort similar items by similarity score in descending order\n",
    "    similar_items = sorted(similar_items, key=lambda x: x[1], reverse=True)\n",
    "\n",
    "    # Get the top N most similar items (excluding the item itself)\n",
    "    top_similar_items = similar_items[1:top_n+1]\n",
    "\n",
    "    # Get the indices and similarity scores of the top similar items\n",
    "    recommended_item_indices = [x[0] for x in top_similar_items]\n",
    "    similarity_scores = [x[1] for x in top_similar_items]\n",
    "\n",
    "    # Add similarity scores to the recommended items\n",
    "    recommended_items_details = data.iloc[recommended_item_indices][['Name', 'ImageURL', 'Brand', 'Rating', 'ReviewCount', 'Description', 'Price']].copy()\n",
    "    recommended_items_details['SimilarityScore'] = similarity_scores\n",
    "\n",
    "    # Calculate the ratio of useful recommendations (similarity score > 0.5)\n",
    "    useful_count = sum(score > useful_score for score in similarity_scores)\n",
    "    useful_ratio = useful_count / top_n\n",
    "    \n",
    "    return recommended_items_details, useful_ratio\n",
    "\n"
   ],
   "outputs": [],
   "execution_count": 30
  },
  {
   "metadata": {},
   "cell_type": "markdown",
   "source": "",
   "id": "d77014267baa02d9"
  },
  {
   "cell_type": "code",
   "id": "d9d95dce",
   "metadata": {
    "ExecuteTime": {
     "end_time": "2025-01-08T15:40:08.785505Z",
     "start_time": "2025-01-08T15:40:06.760892Z"
    }
   },
   "source": [
    "# Example: Get content-based recommendations for a specific item\n",
    "item_name = 'BMC Bright and Loud Cream Gel Lacquer Polish Set - Neon Wasteland Collection'\n",
    "content_based_rec,useful_ratio = content_based_recommendations(train_data, item_name, top_n=8)\n",
    "\n",
    "content_based_rec\n"
   ],
   "outputs": [
    {
     "data": {
      "text/plain": [
       "                                                   Name  \\\n",
       "1868  OPI Nail GelColor Gel Polish NEON Color .5oz/1...   \n",
       "3033  Sally Hansen Miracle Gel, 051 Peach Please (Ne...   \n",
       "2751  Sally Hansen Miracle Gel, 053 Miami Ice (Neon)...   \n",
       "3094  Sensationail Express Gel Nail Polish (White), ...   \n",
       "4890                            Just Gel SLURPLE PURPLE   \n",
       "1450                                Just Gel BLUE HAVEN   \n",
       "1959                                    Just Gel INGNUE   \n",
       "771   Sally Hansen Miracle Gel Nail Polish, Leaf Me ...   \n",
       "\n",
       "                                               ImageURL         Brand  Rating  \\\n",
       "1868  https://i5.walmartimages.com/asr/cf655dbc-8e90...           OPI     0.0   \n",
       "3033  https://i5.walmartimages.com/asr/54de0e9b-5f65...  Sally Hansen     0.0   \n",
       "2751  https://i5.walmartimages.com/asr/8ecd2ae5-fb6c...  Sally Hansen     0.0   \n",
       "3094  https://i5.walmartimages.com/asr/a6ebc6b8-0fc9...  SensatioNail     0.0   \n",
       "4890  https://i5.walmartimages.com/asr/e3867ec3-97b2...           ibd     0.0   \n",
       "1450  https://i5.walmartimages.com/asr/aa40f091-849d...           ibd     0.0   \n",
       "1959  https://i5.walmartimages.com/asr/6fb32bc9-0ffd...           ibd     0.0   \n",
       "771   https://i5.walmartimages.com/asr/13c7e57c-526b...  Sally Hansen     4.2   \n",
       "\n",
       "      ReviewCount                                        Description  Price  \\\n",
       "1868          0.0                                                NaN  17.24   \n",
       "3033      11336.0  &quotGet an up to 8 day mani*. Miracle Gel, ou...   7.46   \n",
       "2751      11336.0  &quotGet an up to 8 day mani*. Miracle Gel, ou...   7.46   \n",
       "3094         23.0  Bring the nail salon experience to your home w...  11.67   \n",
       "4890          0.0  IBD introduces just gel, the strong 100% pure ...   9.95   \n",
       "1450          0.0  IBD introduces just gel, the strong 100% pure ...   9.99   \n",
       "1959          0.0  IBD introduces just gel, the strong 100% pure ...   9.95   \n",
       "771       11272.0  Sally Hansen Miracle Gel Nail Polish, Leaf Me ...   7.46   \n",
       "\n",
       "      SimilarityScore  \n",
       "1868         0.222477  \n",
       "3033         0.184668  \n",
       "2751         0.183538  \n",
       "3094         0.177481  \n",
       "4890         0.163421  \n",
       "1450         0.163300  \n",
       "1959         0.160268  \n",
       "771          0.155635  "
      ],
      "text/html": [
       "<div>\n",
       "<style scoped>\n",
       "    .dataframe tbody tr th:only-of-type {\n",
       "        vertical-align: middle;\n",
       "    }\n",
       "\n",
       "    .dataframe tbody tr th {\n",
       "        vertical-align: top;\n",
       "    }\n",
       "\n",
       "    .dataframe thead th {\n",
       "        text-align: right;\n",
       "    }\n",
       "</style>\n",
       "<table border=\"1\" class=\"dataframe\">\n",
       "  <thead>\n",
       "    <tr style=\"text-align: right;\">\n",
       "      <th></th>\n",
       "      <th>Name</th>\n",
       "      <th>ImageURL</th>\n",
       "      <th>Brand</th>\n",
       "      <th>Rating</th>\n",
       "      <th>ReviewCount</th>\n",
       "      <th>Description</th>\n",
       "      <th>Price</th>\n",
       "      <th>SimilarityScore</th>\n",
       "    </tr>\n",
       "  </thead>\n",
       "  <tbody>\n",
       "    <tr>\n",
       "      <th>1868</th>\n",
       "      <td>OPI Nail GelColor Gel Polish NEON Color .5oz/1...</td>\n",
       "      <td>https://i5.walmartimages.com/asr/cf655dbc-8e90...</td>\n",
       "      <td>OPI</td>\n",
       "      <td>0.0</td>\n",
       "      <td>0.0</td>\n",
       "      <td>NaN</td>\n",
       "      <td>17.24</td>\n",
       "      <td>0.222477</td>\n",
       "    </tr>\n",
       "    <tr>\n",
       "      <th>3033</th>\n",
       "      <td>Sally Hansen Miracle Gel, 051 Peach Please (Ne...</td>\n",
       "      <td>https://i5.walmartimages.com/asr/54de0e9b-5f65...</td>\n",
       "      <td>Sally Hansen</td>\n",
       "      <td>0.0</td>\n",
       "      <td>11336.0</td>\n",
       "      <td>&amp;quotGet an up to 8 day mani*. Miracle Gel, ou...</td>\n",
       "      <td>7.46</td>\n",
       "      <td>0.184668</td>\n",
       "    </tr>\n",
       "    <tr>\n",
       "      <th>2751</th>\n",
       "      <td>Sally Hansen Miracle Gel, 053 Miami Ice (Neon)...</td>\n",
       "      <td>https://i5.walmartimages.com/asr/8ecd2ae5-fb6c...</td>\n",
       "      <td>Sally Hansen</td>\n",
       "      <td>0.0</td>\n",
       "      <td>11336.0</td>\n",
       "      <td>&amp;quotGet an up to 8 day mani*. Miracle Gel, ou...</td>\n",
       "      <td>7.46</td>\n",
       "      <td>0.183538</td>\n",
       "    </tr>\n",
       "    <tr>\n",
       "      <th>3094</th>\n",
       "      <td>Sensationail Express Gel Nail Polish (White), ...</td>\n",
       "      <td>https://i5.walmartimages.com/asr/a6ebc6b8-0fc9...</td>\n",
       "      <td>SensatioNail</td>\n",
       "      <td>0.0</td>\n",
       "      <td>23.0</td>\n",
       "      <td>Bring the nail salon experience to your home w...</td>\n",
       "      <td>11.67</td>\n",
       "      <td>0.177481</td>\n",
       "    </tr>\n",
       "    <tr>\n",
       "      <th>4890</th>\n",
       "      <td>Just Gel SLURPLE PURPLE</td>\n",
       "      <td>https://i5.walmartimages.com/asr/e3867ec3-97b2...</td>\n",
       "      <td>ibd</td>\n",
       "      <td>0.0</td>\n",
       "      <td>0.0</td>\n",
       "      <td>IBD introduces just gel, the strong 100% pure ...</td>\n",
       "      <td>9.95</td>\n",
       "      <td>0.163421</td>\n",
       "    </tr>\n",
       "    <tr>\n",
       "      <th>1450</th>\n",
       "      <td>Just Gel BLUE HAVEN</td>\n",
       "      <td>https://i5.walmartimages.com/asr/aa40f091-849d...</td>\n",
       "      <td>ibd</td>\n",
       "      <td>0.0</td>\n",
       "      <td>0.0</td>\n",
       "      <td>IBD introduces just gel, the strong 100% pure ...</td>\n",
       "      <td>9.99</td>\n",
       "      <td>0.163300</td>\n",
       "    </tr>\n",
       "    <tr>\n",
       "      <th>1959</th>\n",
       "      <td>Just Gel INGNUE</td>\n",
       "      <td>https://i5.walmartimages.com/asr/6fb32bc9-0ffd...</td>\n",
       "      <td>ibd</td>\n",
       "      <td>0.0</td>\n",
       "      <td>0.0</td>\n",
       "      <td>IBD introduces just gel, the strong 100% pure ...</td>\n",
       "      <td>9.95</td>\n",
       "      <td>0.160268</td>\n",
       "    </tr>\n",
       "    <tr>\n",
       "      <th>771</th>\n",
       "      <td>Sally Hansen Miracle Gel Nail Polish, Leaf Me ...</td>\n",
       "      <td>https://i5.walmartimages.com/asr/13c7e57c-526b...</td>\n",
       "      <td>Sally Hansen</td>\n",
       "      <td>4.2</td>\n",
       "      <td>11272.0</td>\n",
       "      <td>Sally Hansen Miracle Gel Nail Polish, Leaf Me ...</td>\n",
       "      <td>7.46</td>\n",
       "      <td>0.155635</td>\n",
       "    </tr>\n",
       "  </tbody>\n",
       "</table>\n",
       "</div>"
      ]
     },
     "execution_count": 31,
     "metadata": {},
     "output_type": "execute_result"
    }
   ],
   "execution_count": 31
  },
  {
   "metadata": {
    "ExecuteTime": {
     "end_time": "2025-01-08T15:40:08.858492Z",
     "start_time": "2025-01-08T15:40:08.851473Z"
    }
   },
   "cell_type": "code",
   "source": "print(f\"Useful recommendations:  ({useful_ratio:.2%})\")",
   "id": "bb2469fed9686218",
   "outputs": [
    {
     "name": "stdout",
     "output_type": "stream",
     "text": [
      "Useful recommendations:  (0.00%)\n"
     ]
    }
   ],
   "execution_count": 32
  },
  {
   "cell_type": "code",
   "id": "04ebc5a6",
   "metadata": {
    "ExecuteTime": {
     "end_time": "2025-01-08T15:40:10.798326Z",
     "start_time": "2025-01-08T15:40:09.115959Z"
    }
   },
   "source": [
    "# Example: Get content-based recommendations for a specific item\n",
    "item_name = 'Kokie Professional Matte Lipstick, Hot Berry, 0.14 fl oz'\n",
    "content_based_rec = content_based_recommendations(train_data, item_name, top_n=8)\n",
    "\n",
    "content_based_rec"
   ],
   "outputs": [
    {
     "data": {
      "text/plain": [
       "(                                                   Name  \\\n",
       " 3379  Kokie Professional Matte Lipstick, Firecracker...   \n",
       " 542   Kokie Professional Matte Lipstick, Kiss Me, 0....   \n",
       " 4015  Kokie Professional Lip Poudre Liquid Matte Liq...   \n",
       " 2383           L.A. Colors Matte Lipstick, Tender Matte   \n",
       " 2847  Kokie Professional Lip Poudre Liquid Matte Liq...   \n",
       " 2997                           Be Matte Lipstick - Pink   \n",
       " 4503                      Be Matte Lipstick - Soft Pink   \n",
       " 1306                      Be Matte Lipstick - Baby Pink   \n",
       " \n",
       "                                                ImageURL            Brand  \\\n",
       " 3379  https://i5.walmartimages.com/asr/8312221b-ed22...  Kokie Cosmetics   \n",
       " 542   https://i5.walmartimages.com/asr/27dd82a2-2b9c...  Kokie Cosmetics   \n",
       " 4015  https://i5.walmartimages.com/asr/fdd7498c-319f...  Kokie Cosmetics   \n",
       " 2383  https://i5.walmartimages.com/asr/271264fb-e8c3...      L.A. Colors   \n",
       " 2847  https://i5.walmartimages.com/asr/31c99d9b-ea11...  Kokie Cosmetics   \n",
       " 2997  https://i5.walmartimages.com/asr/4425a13e-085f...       City Color   \n",
       " 4503  https://i5.walmartimages.com/asr/69e1ec63-be5e...       City Color   \n",
       " 1306  https://i5.walmartimages.com/asr/acadf0c0-739f...       City Color   \n",
       " \n",
       "       Rating  ReviewCount                                        Description  \\\n",
       " 3379     0.0          0.0  Calling all matte lip lovers! Indulge in our r...   \n",
       " 542      0.0          0.0  Kokie Professional Sienna Matte Lipstick is th...   \n",
       " 4015     3.4          7.0  Matte liquid lipsticks are always drying, righ...   \n",
       " 2383     3.7          3.0  Matte about color? L.A. Colors Matte Lipstick ...   \n",
       " 2847     3.4          7.0  Kokie Professional Lip Poudre Liquid Matte Lip...   \n",
       " 2997     3.0          2.0  Richly enhanced formula for long-lasting color...   \n",
       " 4503     3.0          2.0  Richly enhanced formula for long-lasting color...   \n",
       " 1306     3.0          2.0  Richly enhanced formula for long-lasting color...   \n",
       " \n",
       "       Price  SimilarityScore  \n",
       " 3379   5.16         0.976953  \n",
       " 542    9.20         0.725393  \n",
       " 4015  11.99         0.583935  \n",
       " 2383   5.24         0.578345  \n",
       " 2847  10.48         0.533782  \n",
       " 2997   3.17         0.508348  \n",
       " 4503   3.17         0.497306  \n",
       " 1306   3.17         0.478285  ,\n",
       " np.float64(0.25))"
      ]
     },
     "execution_count": 33,
     "metadata": {},
     "output_type": "execute_result"
    }
   ],
   "execution_count": 33
  },
  {
   "metadata": {
    "ExecuteTime": {
     "end_time": "2025-01-08T15:40:10.861453Z",
     "start_time": "2025-01-08T15:40:10.852948Z"
    }
   },
   "cell_type": "code",
   "source": [
    "def calculate_average_useful_ratio(train_data, top_n=10, useful_score=0.7, count_num=50):\n",
    "    # Initialize a list to store useful ratios\n",
    "    useful_ratios = []\n",
    "\n",
    "    # Get unique item names and limit to the first `count_num` items\n",
    "    unique_items = train_data['Name'].unique()[:count_num]\n",
    "\n",
    "    # Loop through the selected unique item names in the training data\n",
    "    for item_name in unique_items:\n",
    "        # Get recommendations and useful ratio for the current item\n",
    "        _, useful_ratio = content_based_recommendations(train_data, item_name, top_n, useful_score)\n",
    "\n",
    "        # Append the useful ratio to the list\n",
    "        useful_ratios.append(useful_ratio)\n",
    "\n",
    "    # Convert the list of useful ratios to a pandas Series\n",
    "    ratios_series = pd.Series(useful_ratios)\n",
    "\n",
    "    # Print descriptive statistics\n",
    "    print(\"\\nDescriptive Statistics for Useful Ratios:\")\n",
    "    print(ratios_series.describe())\n",
    "\n",
    "    # Return the list of ratios and descriptive statistics\n",
    "    return ratios_series"
   ],
   "id": "52dd7954487c286f",
   "outputs": [],
   "execution_count": 34
  },
  {
   "metadata": {
    "ExecuteTime": {
     "end_time": "2025-01-08T15:40:10.903882Z",
     "start_time": "2025-01-08T15:40:10.896839Z"
    }
   },
   "cell_type": "code",
   "source": "count_num = len(train_data['Name'].unique()) - 1",
   "id": "772fb36ff0240268",
   "outputs": [],
   "execution_count": 35
  },
  {
   "metadata": {
    "ExecuteTime": {
     "end_time": "2025-01-08T15:53:14.491285Z",
     "start_time": "2025-01-08T15:40:10.997083Z"
    }
   },
   "cell_type": "code",
   "source": "average_useful_ratio = calculate_average_useful_ratio(train_data, top_n=5, useful_score = 0.7,count_num = 500)",
   "id": "920d1187165d0538",
   "outputs": [
    {
     "name": "stdout",
     "output_type": "stream",
     "text": [
      "\n",
      "Descriptive Statistics for Useful Ratios:\n",
      "count    500.000000\n",
      "mean       0.167600\n",
      "std        0.284521\n",
      "min        0.000000\n",
      "25%        0.000000\n",
      "50%        0.000000\n",
      "75%        0.200000\n",
      "max        1.000000\n",
      "dtype: float64\n"
     ]
    }
   ],
   "execution_count": 36
  },
  {
   "metadata": {},
   "cell_type": "markdown",
   "source": "",
   "id": "5e5df8f96c3ce92a"
  },
  {
   "metadata": {
    "ExecuteTime": {
     "end_time": "2025-01-08T16:05:49.493813Z",
     "start_time": "2025-01-08T15:53:14.542659Z"
    }
   },
   "cell_type": "code",
   "source": "average_useful_ratio53 = calculate_average_useful_ratio(train_data, top_n=5, useful_score = 0.3,count_num = 500)",
   "id": "2d137f8f797d4bf7",
   "outputs": [
    {
     "name": "stdout",
     "output_type": "stream",
     "text": [
      "\n",
      "Descriptive Statistics for Useful Ratios:\n",
      "count    500.000000\n",
      "mean       0.760000\n",
      "std        0.371963\n",
      "min        0.000000\n",
      "25%        0.400000\n",
      "50%        1.000000\n",
      "75%        1.000000\n",
      "max        1.000000\n",
      "dtype: float64\n"
     ]
    }
   ],
   "execution_count": 37
  },
  {
   "metadata": {
    "ExecuteTime": {
     "end_time": "2025-01-08T16:18:25.890796Z",
     "start_time": "2025-01-08T16:05:49.617894Z"
    }
   },
   "cell_type": "code",
   "source": "average_useful_ratio55 = calculate_average_useful_ratio(train_data, top_n=5, useful_score = 0.5,count_num = 500)",
   "id": "2e6466cab1090130",
   "outputs": [
    {
     "name": "stdout",
     "output_type": "stream",
     "text": [
      "\n",
      "Descriptive Statistics for Useful Ratios:\n",
      "count    500.000000\n",
      "mean       0.372800\n",
      "std        0.398268\n",
      "min        0.000000\n",
      "25%        0.000000\n",
      "50%        0.200000\n",
      "75%        0.800000\n",
      "max        1.000000\n",
      "dtype: float64\n"
     ]
    }
   ],
   "execution_count": 38
  },
  {
   "metadata": {
    "ExecuteTime": {
     "end_time": "2025-01-08T16:30:46.994987Z",
     "start_time": "2025-01-08T16:18:26.024090Z"
    }
   },
   "cell_type": "code",
   "source": "average_useful_ratio58 = calculate_average_useful_ratio(train_data, top_n=5, useful_score = 0.8,count_num = 500)",
   "id": "114cff772c822bc7",
   "outputs": [
    {
     "name": "stdout",
     "output_type": "stream",
     "text": [
      "\n",
      "Descriptive Statistics for Useful Ratios:\n",
      "count    500.000000\n",
      "mean       0.109200\n",
      "std        0.233805\n",
      "min        0.000000\n",
      "25%        0.000000\n",
      "50%        0.000000\n",
      "75%        0.200000\n",
      "max        1.000000\n",
      "dtype: float64\n"
     ]
    }
   ],
   "execution_count": 39
  },
  {
   "metadata": {
    "ExecuteTime": {
     "end_time": "2025-01-08T16:39:38.747861Z",
     "start_time": "2025-01-08T16:30:47.105861Z"
    }
   },
   "cell_type": "code",
   "source": "average_useful_ratio103 = calculate_average_useful_ratio(train_data, top_n=10, useful_score = 0.3,count_num = 500)",
   "id": "20ab58733ab98b6",
   "outputs": [
    {
     "name": "stdout",
     "output_type": "stream",
     "text": [
      "\n",
      "Descriptive Statistics for Useful Ratios:\n",
      "count    500.000000\n",
      "mean       0.648200\n",
      "std        0.392996\n",
      "min        0.000000\n",
      "25%        0.200000\n",
      "50%        0.800000\n",
      "75%        1.000000\n",
      "max        1.000000\n",
      "dtype: float64\n"
     ]
    }
   ],
   "execution_count": 40
  },
  {
   "metadata": {
    "ExecuteTime": {
     "end_time": "2025-01-08T16:45:22.684570Z",
     "start_time": "2025-01-08T16:39:38.762562Z"
    }
   },
   "cell_type": "code",
   "source": "average_useful_ratio105 = calculate_average_useful_ratio(train_data, top_n=10, useful_score = 0.5,count_num = 500)",
   "id": "c9fa8850de2e95cf",
   "outputs": [
    {
     "name": "stdout",
     "output_type": "stream",
     "text": [
      "\n",
      "Descriptive Statistics for Useful Ratios:\n",
      "count    500.000000\n",
      "mean       0.242800\n",
      "std        0.307436\n",
      "min        0.000000\n",
      "25%        0.000000\n",
      "50%        0.100000\n",
      "75%        0.400000\n",
      "max        1.000000\n",
      "dtype: float64\n"
     ]
    }
   ],
   "execution_count": 41
  },
  {
   "metadata": {
    "ExecuteTime": {
     "end_time": "2025-01-08T16:51:09.400643Z",
     "start_time": "2025-01-08T16:45:22.700626Z"
    }
   },
   "cell_type": "code",
   "source": "average_useful_ratio107 = calculate_average_useful_ratio(train_data, top_n=10, useful_score = 0.7,count_num = 500)",
   "id": "ce450e7a4c47aa9c",
   "outputs": [
    {
     "name": "stdout",
     "output_type": "stream",
     "text": [
      "\n",
      "Descriptive Statistics for Useful Ratios:\n",
      "count    500.000000\n",
      "mean       0.092600\n",
      "std        0.176259\n",
      "min        0.000000\n",
      "25%        0.000000\n",
      "50%        0.000000\n",
      "75%        0.100000\n",
      "max        1.000000\n",
      "dtype: float64\n"
     ]
    }
   ],
   "execution_count": 42
  },
  {
   "metadata": {
    "ExecuteTime": {
     "end_time": "2025-01-08T16:58:21.469973Z",
     "start_time": "2025-01-08T16:51:09.414620Z"
    }
   },
   "cell_type": "code",
   "source": "average_useful_ratio108 = calculate_average_useful_ratio(train_data, top_n=10, useful_score = 0.8,count_num = 500)",
   "id": "a968eed4aecf88cb",
   "outputs": [
    {
     "name": "stdout",
     "output_type": "stream",
     "text": [
      "\n",
      "Descriptive Statistics for Useful Ratios:\n",
      "count    500.000000\n",
      "mean       0.057200\n",
      "std        0.130546\n",
      "min        0.000000\n",
      "25%        0.000000\n",
      "50%        0.000000\n",
      "75%        0.100000\n",
      "max        1.000000\n",
      "dtype: float64\n"
     ]
    }
   ],
   "execution_count": 43
  },
  {
   "metadata": {
    "ExecuteTime": {
     "end_time": "2025-01-03T07:45:52.468672400Z",
     "start_time": "2025-01-03T05:57:53.004372Z"
    }
   },
   "cell_type": "code",
   "source": [
    "!pip install streamlit\n",
    "!streamlit run app2.py\n"
   ],
   "id": "b8f90e0b10d68101",
   "outputs": [
    {
     "name": "stdout",
     "output_type": "stream",
     "text": [
      "Requirement already satisfied: streamlit in c:\\users\\pc\\pycharmprojects\\ecommerce_recommender_tdk\\.venv\\lib\\site-packages (1.40.0)\n",
      "Requirement already satisfied: altair<6,>=4.0 in c:\\users\\pc\\pycharmprojects\\ecommerce_recommender_tdk\\.venv\\lib\\site-packages (from streamlit) (5.4.1)\n",
      "Requirement already satisfied: blinker<2,>=1.0.0 in c:\\users\\pc\\pycharmprojects\\ecommerce_recommender_tdk\\.venv\\lib\\site-packages (from streamlit) (1.8.2)\n",
      "Requirement already satisfied: cachetools<6,>=4.0 in c:\\users\\pc\\pycharmprojects\\ecommerce_recommender_tdk\\.venv\\lib\\site-packages (from streamlit) (5.5.0)\n",
      "Requirement already satisfied: click<9,>=7.0 in c:\\users\\pc\\pycharmprojects\\ecommerce_recommender_tdk\\.venv\\lib\\site-packages (from streamlit) (8.1.7)\n",
      "Requirement already satisfied: numpy<3,>=1.20 in c:\\users\\pc\\pycharmprojects\\ecommerce_recommender_tdk\\.venv\\lib\\site-packages (from streamlit) (2.2.1)\n",
      "Requirement already satisfied: packaging<25,>=20 in c:\\users\\pc\\pycharmprojects\\ecommerce_recommender_tdk\\.venv\\lib\\site-packages (from streamlit) (24.1)\n",
      "Requirement already satisfied: pandas<3,>=1.4.0 in c:\\users\\pc\\pycharmprojects\\ecommerce_recommender_tdk\\.venv\\lib\\site-packages (from streamlit) (2.2.3)\n",
      "Requirement already satisfied: pillow<12,>=7.1.0 in c:\\users\\pc\\pycharmprojects\\ecommerce_recommender_tdk\\.venv\\lib\\site-packages (from streamlit) (11.0.0)\n",
      "Requirement already satisfied: protobuf<6,>=3.20 in c:\\users\\pc\\pycharmprojects\\ecommerce_recommender_tdk\\.venv\\lib\\site-packages (from streamlit) (5.28.3)\n",
      "Requirement already satisfied: pyarrow>=7.0 in c:\\users\\pc\\pycharmprojects\\ecommerce_recommender_tdk\\.venv\\lib\\site-packages (from streamlit) (18.0.0)\n",
      "Requirement already satisfied: requests<3,>=2.27 in c:\\users\\pc\\pycharmprojects\\ecommerce_recommender_tdk\\.venv\\lib\\site-packages (from streamlit) (2.32.3)\n",
      "Requirement already satisfied: rich<14,>=10.14.0 in c:\\users\\pc\\pycharmprojects\\ecommerce_recommender_tdk\\.venv\\lib\\site-packages (from streamlit) (13.9.4)\n",
      "Requirement already satisfied: tenacity<10,>=8.1.0 in c:\\users\\pc\\pycharmprojects\\ecommerce_recommender_tdk\\.venv\\lib\\site-packages (from streamlit) (9.0.0)\n",
      "Requirement already satisfied: toml<2,>=0.10.1 in c:\\users\\pc\\pycharmprojects\\ecommerce_recommender_tdk\\.venv\\lib\\site-packages (from streamlit) (0.10.2)\n",
      "Requirement already satisfied: typing-extensions<5,>=4.3.0 in c:\\users\\pc\\pycharmprojects\\ecommerce_recommender_tdk\\.venv\\lib\\site-packages (from streamlit) (4.12.2)\n",
      "Requirement already satisfied: gitpython!=3.1.19,<4,>=3.0.7 in c:\\users\\pc\\pycharmprojects\\ecommerce_recommender_tdk\\.venv\\lib\\site-packages (from streamlit) (3.1.43)\n",
      "Requirement already satisfied: pydeck<1,>=0.8.0b4 in c:\\users\\pc\\pycharmprojects\\ecommerce_recommender_tdk\\.venv\\lib\\site-packages (from streamlit) (0.9.1)\n",
      "Requirement already satisfied: tornado<7,>=6.0.3 in c:\\users\\pc\\pycharmprojects\\ecommerce_recommender_tdk\\.venv\\lib\\site-packages (from streamlit) (6.4.1)\n",
      "Requirement already satisfied: watchdog<6,>=2.1.5 in c:\\users\\pc\\pycharmprojects\\ecommerce_recommender_tdk\\.venv\\lib\\site-packages (from streamlit) (5.0.3)\n",
      "Requirement already satisfied: jinja2 in c:\\users\\pc\\pycharmprojects\\ecommerce_recommender_tdk\\.venv\\lib\\site-packages (from altair<6,>=4.0->streamlit) (3.1.4)\n",
      "Requirement already satisfied: jsonschema>=3.0 in c:\\users\\pc\\pycharmprojects\\ecommerce_recommender_tdk\\.venv\\lib\\site-packages (from altair<6,>=4.0->streamlit) (4.23.0)\n",
      "Requirement already satisfied: narwhals>=1.5.2 in c:\\users\\pc\\pycharmprojects\\ecommerce_recommender_tdk\\.venv\\lib\\site-packages (from altair<6,>=4.0->streamlit) (1.13.2)\n",
      "Requirement already satisfied: colorama in c:\\users\\pc\\pycharmprojects\\ecommerce_recommender_tdk\\.venv\\lib\\site-packages (from click<9,>=7.0->streamlit) (0.4.6)\n",
      "Requirement already satisfied: gitdb<5,>=4.0.1 in c:\\users\\pc\\pycharmprojects\\ecommerce_recommender_tdk\\.venv\\lib\\site-packages (from gitpython!=3.1.19,<4,>=3.0.7->streamlit) (4.0.11)\n",
      "Requirement already satisfied: python-dateutil>=2.8.2 in c:\\users\\pc\\pycharmprojects\\ecommerce_recommender_tdk\\.venv\\lib\\site-packages (from pandas<3,>=1.4.0->streamlit) (2.9.0.post0)\n",
      "Requirement already satisfied: pytz>=2020.1 in c:\\users\\pc\\pycharmprojects\\ecommerce_recommender_tdk\\.venv\\lib\\site-packages (from pandas<3,>=1.4.0->streamlit) (2024.2)\n",
      "Requirement already satisfied: tzdata>=2022.7 in c:\\users\\pc\\pycharmprojects\\ecommerce_recommender_tdk\\.venv\\lib\\site-packages (from pandas<3,>=1.4.0->streamlit) (2024.2)\n",
      "Requirement already satisfied: charset-normalizer<4,>=2 in c:\\users\\pc\\pycharmprojects\\ecommerce_recommender_tdk\\.venv\\lib\\site-packages (from requests<3,>=2.27->streamlit) (3.4.0)\n",
      "Requirement already satisfied: idna<4,>=2.5 in c:\\users\\pc\\pycharmprojects\\ecommerce_recommender_tdk\\.venv\\lib\\site-packages (from requests<3,>=2.27->streamlit) (3.10)\n",
      "Requirement already satisfied: urllib3<3,>=1.21.1 in c:\\users\\pc\\pycharmprojects\\ecommerce_recommender_tdk\\.venv\\lib\\site-packages (from requests<3,>=2.27->streamlit) (2.2.3)\n",
      "Requirement already satisfied: certifi>=2017.4.17 in c:\\users\\pc\\pycharmprojects\\ecommerce_recommender_tdk\\.venv\\lib\\site-packages (from requests<3,>=2.27->streamlit) (2024.8.30)\n",
      "Requirement already satisfied: markdown-it-py>=2.2.0 in c:\\users\\pc\\pycharmprojects\\ecommerce_recommender_tdk\\.venv\\lib\\site-packages (from rich<14,>=10.14.0->streamlit) (3.0.0)\n",
      "Requirement already satisfied: pygments<3.0.0,>=2.13.0 in c:\\users\\pc\\pycharmprojects\\ecommerce_recommender_tdk\\.venv\\lib\\site-packages (from rich<14,>=10.14.0->streamlit) (2.18.0)\n",
      "Requirement already satisfied: smmap<6,>=3.0.1 in c:\\users\\pc\\pycharmprojects\\ecommerce_recommender_tdk\\.venv\\lib\\site-packages (from gitdb<5,>=4.0.1->gitpython!=3.1.19,<4,>=3.0.7->streamlit) (5.0.1)\n",
      "Requirement already satisfied: MarkupSafe>=2.0 in c:\\users\\pc\\pycharmprojects\\ecommerce_recommender_tdk\\.venv\\lib\\site-packages (from jinja2->altair<6,>=4.0->streamlit) (3.0.2)\n",
      "Requirement already satisfied: attrs>=22.2.0 in c:\\users\\pc\\pycharmprojects\\ecommerce_recommender_tdk\\.venv\\lib\\site-packages (from jsonschema>=3.0->altair<6,>=4.0->streamlit) (24.2.0)\n",
      "Requirement already satisfied: jsonschema-specifications>=2023.03.6 in c:\\users\\pc\\pycharmprojects\\ecommerce_recommender_tdk\\.venv\\lib\\site-packages (from jsonschema>=3.0->altair<6,>=4.0->streamlit) (2024.10.1)\n",
      "Requirement already satisfied: referencing>=0.28.4 in c:\\users\\pc\\pycharmprojects\\ecommerce_recommender_tdk\\.venv\\lib\\site-packages (from jsonschema>=3.0->altair<6,>=4.0->streamlit) (0.35.1)\n",
      "Requirement already satisfied: rpds-py>=0.7.1 in c:\\users\\pc\\pycharmprojects\\ecommerce_recommender_tdk\\.venv\\lib\\site-packages (from jsonschema>=3.0->altair<6,>=4.0->streamlit) (0.21.0)\n",
      "Requirement already satisfied: mdurl~=0.1 in c:\\users\\pc\\pycharmprojects\\ecommerce_recommender_tdk\\.venv\\lib\\site-packages (from markdown-it-py>=2.2.0->rich<14,>=10.14.0->streamlit) (0.1.2)\n",
      "Requirement already satisfied: six>=1.5 in c:\\users\\pc\\pycharmprojects\\ecommerce_recommender_tdk\\.venv\\lib\\site-packages (from python-dateutil>=2.8.2->pandas<3,>=1.4.0->streamlit) (1.16.0)\n"
     ]
    },
    {
     "name": "stderr",
     "output_type": "stream",
     "text": [
      "\n",
      "[notice] A new release of pip is available: 23.2.1 -> 24.3.1\n",
      "[notice] To update, run: python.exe -m pip install --upgrade pip\n"
     ]
    },
    {
     "name": "stdout",
     "output_type": "stream",
     "text": [
      "^C\n"
     ]
    }
   ],
   "execution_count": 36
  }
 ],
 "metadata": {
  "kernelspec": {
   "display_name": "Python 3 (ipykernel)",
   "language": "python",
   "name": "python3"
  },
  "language_info": {
   "codemirror_mode": {
    "name": "ipython",
    "version": 3
   },
   "file_extension": ".py",
   "mimetype": "text/x-python",
   "name": "python",
   "nbconvert_exporter": "python",
   "pygments_lexer": "ipython3",
   "version": "3.12.4"
  }
 },
 "nbformat": 4,
 "nbformat_minor": 5
}
