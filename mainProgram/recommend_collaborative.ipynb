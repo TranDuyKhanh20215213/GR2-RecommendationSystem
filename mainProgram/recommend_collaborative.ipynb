{
 "cells": [
  {
   "cell_type": "code",
   "id": "initial_id",
   "metadata": {
    "collapsed": true,
    "ExecuteTime": {
     "end_time": "2025-01-09T16:36:47.038942Z",
     "start_time": "2025-01-09T16:36:45.882917Z"
    }
   },
   "source": [
    "#Importing necessary libraries\n",
    "import pandas as pd\n",
    "import numpy as np\n",
    "import matplotlib.pyplot as plt\n",
    "import seaborn as sns\n",
    "from sklearn.metrics.pairwise import cosine_similarity\n",
    "from sklearn.feature_extraction.text import TfidfVectorizer\n",
    "import os\n",
    "from scipy.sparse import coo_matrix\n",
    "from spacy.cli.train import train"
   ],
   "outputs": [],
   "execution_count": 1
  },
  {
   "metadata": {
    "ExecuteTime": {
     "end_time": "2025-01-09T16:36:47.148315Z",
     "start_time": "2025-01-09T16:36:47.052007Z"
    }
   },
   "cell_type": "code",
   "source": "df = pd.read_csv('data/clean_data.csv')",
   "id": "508a36c76ab144f8",
   "outputs": [],
   "execution_count": 2
  },
  {
   "metadata": {
    "ExecuteTime": {
     "end_time": "2025-01-09T16:36:47.291823Z",
     "start_time": "2025-01-09T16:36:47.279896Z"
    }
   },
   "cell_type": "code",
   "source": [
    "clean_data = df[['ID', 'ProdID', 'Rating']]\n",
    "clean_data   "
   ],
   "id": "24c66a73177e20ec",
   "outputs": [
    {
     "data": {
      "text/plain": [
       "                ID  ProdID  Rating\n",
       "0     1.705737e+09     2.0     0.0\n",
       "1     9.500000e+01    76.0     0.0\n",
       "2     8.000000e+00     8.0     4.5\n",
       "3     4.000000e+00     3.0     0.0\n",
       "4     9.900000e+02     3.0     0.0\n",
       "...            ...     ...     ...\n",
       "4953  2.771000e+03   208.0     4.5\n",
       "4954  0.000000e+00     1.0     3.9\n",
       "4955  3.400000e+01    96.0     0.0\n",
       "4956  9.000000e+00     7.0     0.0\n",
       "4957  0.000000e+00     1.0     0.0\n",
       "\n",
       "[4958 rows x 3 columns]"
      ],
      "text/html": [
       "<div>\n",
       "<style scoped>\n",
       "    .dataframe tbody tr th:only-of-type {\n",
       "        vertical-align: middle;\n",
       "    }\n",
       "\n",
       "    .dataframe tbody tr th {\n",
       "        vertical-align: top;\n",
       "    }\n",
       "\n",
       "    .dataframe thead th {\n",
       "        text-align: right;\n",
       "    }\n",
       "</style>\n",
       "<table border=\"1\" class=\"dataframe\">\n",
       "  <thead>\n",
       "    <tr style=\"text-align: right;\">\n",
       "      <th></th>\n",
       "      <th>ID</th>\n",
       "      <th>ProdID</th>\n",
       "      <th>Rating</th>\n",
       "    </tr>\n",
       "  </thead>\n",
       "  <tbody>\n",
       "    <tr>\n",
       "      <th>0</th>\n",
       "      <td>1.705737e+09</td>\n",
       "      <td>2.0</td>\n",
       "      <td>0.0</td>\n",
       "    </tr>\n",
       "    <tr>\n",
       "      <th>1</th>\n",
       "      <td>9.500000e+01</td>\n",
       "      <td>76.0</td>\n",
       "      <td>0.0</td>\n",
       "    </tr>\n",
       "    <tr>\n",
       "      <th>2</th>\n",
       "      <td>8.000000e+00</td>\n",
       "      <td>8.0</td>\n",
       "      <td>4.5</td>\n",
       "    </tr>\n",
       "    <tr>\n",
       "      <th>3</th>\n",
       "      <td>4.000000e+00</td>\n",
       "      <td>3.0</td>\n",
       "      <td>0.0</td>\n",
       "    </tr>\n",
       "    <tr>\n",
       "      <th>4</th>\n",
       "      <td>9.900000e+02</td>\n",
       "      <td>3.0</td>\n",
       "      <td>0.0</td>\n",
       "    </tr>\n",
       "    <tr>\n",
       "      <th>...</th>\n",
       "      <td>...</td>\n",
       "      <td>...</td>\n",
       "      <td>...</td>\n",
       "    </tr>\n",
       "    <tr>\n",
       "      <th>4953</th>\n",
       "      <td>2.771000e+03</td>\n",
       "      <td>208.0</td>\n",
       "      <td>4.5</td>\n",
       "    </tr>\n",
       "    <tr>\n",
       "      <th>4954</th>\n",
       "      <td>0.000000e+00</td>\n",
       "      <td>1.0</td>\n",
       "      <td>3.9</td>\n",
       "    </tr>\n",
       "    <tr>\n",
       "      <th>4955</th>\n",
       "      <td>3.400000e+01</td>\n",
       "      <td>96.0</td>\n",
       "      <td>0.0</td>\n",
       "    </tr>\n",
       "    <tr>\n",
       "      <th>4956</th>\n",
       "      <td>9.000000e+00</td>\n",
       "      <td>7.0</td>\n",
       "      <td>0.0</td>\n",
       "    </tr>\n",
       "    <tr>\n",
       "      <th>4957</th>\n",
       "      <td>0.000000e+00</td>\n",
       "      <td>1.0</td>\n",
       "      <td>0.0</td>\n",
       "    </tr>\n",
       "  </tbody>\n",
       "</table>\n",
       "<p>4958 rows × 3 columns</p>\n",
       "</div>"
      ]
     },
     "execution_count": 3,
     "metadata": {},
     "output_type": "execute_result"
    }
   ],
   "execution_count": 3
  },
  {
   "metadata": {
    "ExecuteTime": {
     "end_time": "2025-01-09T16:36:47.378056Z",
     "start_time": "2025-01-09T16:36:47.326216Z"
    }
   },
   "cell_type": "code",
   "source": [
    "user_item_matrix = clean_data.pivot_table(index='ID', columns='ProdID', values='Rating', fill_value=0)\n",
    "user_item_matrix.head()"
   ],
   "id": "e8c505984cee378e",
   "outputs": [
    {
     "data": {
      "text/plain": [
       "ProdID  0.000000e+00  1.000000e+00  2.000000e+00  3.000000e+00  4.000000e+00  \\\n",
       "ID                                                                             \n",
       "0.0         2.840000      1.376923      1.666667      1.587500      1.775000   \n",
       "1.0         1.720000      0.000000      2.122222      2.753846      0.700000   \n",
       "2.0         1.285714      1.880000      3.062500      1.580000      2.663636   \n",
       "3.0         1.740000      1.125000      1.583333      2.675000      0.785714   \n",
       "4.0         3.525000      0.650000      2.462500      1.960000      1.550000   \n",
       "\n",
       "ProdID  5.000000e+00  6.000000e+00  7.000000e+00  8.000000e+00  9.000000e+00  \\\n",
       "ID                                                                             \n",
       "0.0         0.000000      2.112500      1.975000      1.000000      1.011111   \n",
       "1.0         2.333333      3.325000      2.350000      0.000000      2.422222   \n",
       "2.0         1.400000      0.766667      2.233333      1.336364      1.900000   \n",
       "3.0         3.314286      1.433333      0.000000      0.000000      3.540000   \n",
       "4.0         1.942857      0.450000      2.714286      1.866667      3.820000   \n",
       "\n",
       "ProdID  ...  1.007940e+42  1.007940e+42  1.008730e+42  1.030521e+42  \\\n",
       "ID      ...                                                           \n",
       "0.0     ...           0.0      0.000000           0.0           0.0   \n",
       "1.0     ...           0.0      4.700000           0.0           0.0   \n",
       "2.0     ...           0.0      2.350000           0.0           0.0   \n",
       "3.0     ...           0.0      0.000000           0.0           0.0   \n",
       "4.0     ...           0.0      1.333333           0.0           0.0   \n",
       "\n",
       "ProdID  1.030521e+42  1.030521e+42  1.076430e+42  3.002240e+42  5.002240e+42  \\\n",
       "ID                                                                             \n",
       "0.0              0.0           0.0           5.0           0.0           0.0   \n",
       "1.0              5.0           0.0           0.0           0.0           0.0   \n",
       "2.0              0.0           0.0           0.0           0.0           0.0   \n",
       "3.0              0.0           0.0           0.0           0.0           0.0   \n",
       "4.0              0.0           0.0           0.0           0.0           0.0   \n",
       "\n",
       "ProdID  5.005509e+42  \n",
       "ID                    \n",
       "0.0              0.0  \n",
       "1.0              0.0  \n",
       "2.0              4.6  \n",
       "3.0              0.0  \n",
       "4.0              0.0  \n",
       "\n",
       "[5 rows x 1679 columns]"
      ],
      "text/html": [
       "<div>\n",
       "<style scoped>\n",
       "    .dataframe tbody tr th:only-of-type {\n",
       "        vertical-align: middle;\n",
       "    }\n",
       "\n",
       "    .dataframe tbody tr th {\n",
       "        vertical-align: top;\n",
       "    }\n",
       "\n",
       "    .dataframe thead th {\n",
       "        text-align: right;\n",
       "    }\n",
       "</style>\n",
       "<table border=\"1\" class=\"dataframe\">\n",
       "  <thead>\n",
       "    <tr style=\"text-align: right;\">\n",
       "      <th>ProdID</th>\n",
       "      <th>0.000000e+00</th>\n",
       "      <th>1.000000e+00</th>\n",
       "      <th>2.000000e+00</th>\n",
       "      <th>3.000000e+00</th>\n",
       "      <th>4.000000e+00</th>\n",
       "      <th>5.000000e+00</th>\n",
       "      <th>6.000000e+00</th>\n",
       "      <th>7.000000e+00</th>\n",
       "      <th>8.000000e+00</th>\n",
       "      <th>9.000000e+00</th>\n",
       "      <th>...</th>\n",
       "      <th>1.007940e+42</th>\n",
       "      <th>1.007940e+42</th>\n",
       "      <th>1.008730e+42</th>\n",
       "      <th>1.030521e+42</th>\n",
       "      <th>1.030521e+42</th>\n",
       "      <th>1.030521e+42</th>\n",
       "      <th>1.076430e+42</th>\n",
       "      <th>3.002240e+42</th>\n",
       "      <th>5.002240e+42</th>\n",
       "      <th>5.005509e+42</th>\n",
       "    </tr>\n",
       "    <tr>\n",
       "      <th>ID</th>\n",
       "      <th></th>\n",
       "      <th></th>\n",
       "      <th></th>\n",
       "      <th></th>\n",
       "      <th></th>\n",
       "      <th></th>\n",
       "      <th></th>\n",
       "      <th></th>\n",
       "      <th></th>\n",
       "      <th></th>\n",
       "      <th></th>\n",
       "      <th></th>\n",
       "      <th></th>\n",
       "      <th></th>\n",
       "      <th></th>\n",
       "      <th></th>\n",
       "      <th></th>\n",
       "      <th></th>\n",
       "      <th></th>\n",
       "      <th></th>\n",
       "      <th></th>\n",
       "    </tr>\n",
       "  </thead>\n",
       "  <tbody>\n",
       "    <tr>\n",
       "      <th>0.0</th>\n",
       "      <td>2.840000</td>\n",
       "      <td>1.376923</td>\n",
       "      <td>1.666667</td>\n",
       "      <td>1.587500</td>\n",
       "      <td>1.775000</td>\n",
       "      <td>0.000000</td>\n",
       "      <td>2.112500</td>\n",
       "      <td>1.975000</td>\n",
       "      <td>1.000000</td>\n",
       "      <td>1.011111</td>\n",
       "      <td>...</td>\n",
       "      <td>0.0</td>\n",
       "      <td>0.000000</td>\n",
       "      <td>0.0</td>\n",
       "      <td>0.0</td>\n",
       "      <td>0.0</td>\n",
       "      <td>0.0</td>\n",
       "      <td>5.0</td>\n",
       "      <td>0.0</td>\n",
       "      <td>0.0</td>\n",
       "      <td>0.0</td>\n",
       "    </tr>\n",
       "    <tr>\n",
       "      <th>1.0</th>\n",
       "      <td>1.720000</td>\n",
       "      <td>0.000000</td>\n",
       "      <td>2.122222</td>\n",
       "      <td>2.753846</td>\n",
       "      <td>0.700000</td>\n",
       "      <td>2.333333</td>\n",
       "      <td>3.325000</td>\n",
       "      <td>2.350000</td>\n",
       "      <td>0.000000</td>\n",
       "      <td>2.422222</td>\n",
       "      <td>...</td>\n",
       "      <td>0.0</td>\n",
       "      <td>4.700000</td>\n",
       "      <td>0.0</td>\n",
       "      <td>0.0</td>\n",
       "      <td>5.0</td>\n",
       "      <td>0.0</td>\n",
       "      <td>0.0</td>\n",
       "      <td>0.0</td>\n",
       "      <td>0.0</td>\n",
       "      <td>0.0</td>\n",
       "    </tr>\n",
       "    <tr>\n",
       "      <th>2.0</th>\n",
       "      <td>1.285714</td>\n",
       "      <td>1.880000</td>\n",
       "      <td>3.062500</td>\n",
       "      <td>1.580000</td>\n",
       "      <td>2.663636</td>\n",
       "      <td>1.400000</td>\n",
       "      <td>0.766667</td>\n",
       "      <td>2.233333</td>\n",
       "      <td>1.336364</td>\n",
       "      <td>1.900000</td>\n",
       "      <td>...</td>\n",
       "      <td>0.0</td>\n",
       "      <td>2.350000</td>\n",
       "      <td>0.0</td>\n",
       "      <td>0.0</td>\n",
       "      <td>0.0</td>\n",
       "      <td>0.0</td>\n",
       "      <td>0.0</td>\n",
       "      <td>0.0</td>\n",
       "      <td>0.0</td>\n",
       "      <td>4.6</td>\n",
       "    </tr>\n",
       "    <tr>\n",
       "      <th>3.0</th>\n",
       "      <td>1.740000</td>\n",
       "      <td>1.125000</td>\n",
       "      <td>1.583333</td>\n",
       "      <td>2.675000</td>\n",
       "      <td>0.785714</td>\n",
       "      <td>3.314286</td>\n",
       "      <td>1.433333</td>\n",
       "      <td>0.000000</td>\n",
       "      <td>0.000000</td>\n",
       "      <td>3.540000</td>\n",
       "      <td>...</td>\n",
       "      <td>0.0</td>\n",
       "      <td>0.000000</td>\n",
       "      <td>0.0</td>\n",
       "      <td>0.0</td>\n",
       "      <td>0.0</td>\n",
       "      <td>0.0</td>\n",
       "      <td>0.0</td>\n",
       "      <td>0.0</td>\n",
       "      <td>0.0</td>\n",
       "      <td>0.0</td>\n",
       "    </tr>\n",
       "    <tr>\n",
       "      <th>4.0</th>\n",
       "      <td>3.525000</td>\n",
       "      <td>0.650000</td>\n",
       "      <td>2.462500</td>\n",
       "      <td>1.960000</td>\n",
       "      <td>1.550000</td>\n",
       "      <td>1.942857</td>\n",
       "      <td>0.450000</td>\n",
       "      <td>2.714286</td>\n",
       "      <td>1.866667</td>\n",
       "      <td>3.820000</td>\n",
       "      <td>...</td>\n",
       "      <td>0.0</td>\n",
       "      <td>1.333333</td>\n",
       "      <td>0.0</td>\n",
       "      <td>0.0</td>\n",
       "      <td>0.0</td>\n",
       "      <td>0.0</td>\n",
       "      <td>0.0</td>\n",
       "      <td>0.0</td>\n",
       "      <td>0.0</td>\n",
       "      <td>0.0</td>\n",
       "    </tr>\n",
       "  </tbody>\n",
       "</table>\n",
       "<p>5 rows × 1679 columns</p>\n",
       "</div>"
      ]
     },
     "execution_count": 4,
     "metadata": {},
     "output_type": "execute_result"
    }
   ],
   "execution_count": 4
  },
  {
   "metadata": {
    "ExecuteTime": {
     "end_time": "2025-01-09T16:36:47.476784Z",
     "start_time": "2025-01-09T16:36:47.469179Z"
    }
   },
   "cell_type": "code",
   "source": [
    "non_zero_values = (user_item_matrix > 0).sum().sum()  # Tính tổng số giá trị khác 0 (có rating)\n",
    "total_values = user_item_matrix.size  # Tổng số ô trong ma trận (tất cả các đánh giá của người dùng)\n",
    "\n",
    "# Tính mật độ thưa\n",
    "density = non_zero_values / total_values\n",
    "\n",
    "# In kết quả mật độ thưa\n",
    "print(f\"Density of the user-item matrix: {density:.4f}\")"
   ],
   "id": "773842cc8093d10",
   "outputs": [
    {
     "name": "stdout",
     "output_type": "stream",
     "text": [
      "Density of the user-item matrix: 0.0007\n"
     ]
    }
   ],
   "execution_count": 5
  },
  {
   "metadata": {
    "ExecuteTime": {
     "end_time": "2025-01-09T16:36:47.903253Z",
     "start_time": "2025-01-09T16:36:47.877399Z"
    }
   },
   "cell_type": "code",
   "source": [
    "user_means = user_item_matrix.mean(axis=1)\n",
    "\n",
    "# Trừ đi giá trị trung bình của mỗi người dùng từ tất cả các rating của họ\n",
    "normalized_user_item_matrix = user_item_matrix.subtract(user_means, axis=0)\n",
    "\n",
    "# Kiểm tra ma trận chuẩn hóa\n",
    "normalized_user_item_matrix.head()"
   ],
   "id": "5abc0bc3fd07c979",
   "outputs": [
    {
     "data": {
      "text/plain": [
       "ProdID  0.000000e+00  1.000000e+00  2.000000e+00  3.000000e+00  4.000000e+00  \\\n",
       "ID                                                                             \n",
       "0.0         2.692515      1.229438      1.519181      1.440015      1.627515   \n",
       "1.0         1.591306     -0.128694      1.993529      2.625153      0.571306   \n",
       "2.0         1.177421      1.771706      2.954206      1.471706      2.555343   \n",
       "3.0         1.614401      0.999401      1.457735      2.549401      0.660116   \n",
       "4.0         3.398908      0.523908      2.336408      1.833908      1.423908   \n",
       "\n",
       "ProdID  5.000000e+00  6.000000e+00  7.000000e+00  8.000000e+00  9.000000e+00  \\\n",
       "ID                                                                             \n",
       "0.0        -0.147485      1.965015      1.827515      0.852515      0.863626   \n",
       "1.0         2.204640      3.196306      2.221306     -0.128694      2.293529   \n",
       "2.0         1.291706      0.658373      2.125040      1.228070      1.791706   \n",
       "3.0         3.188687      1.307735     -0.125599     -0.125599      3.414401   \n",
       "4.0         1.816765      0.323908      2.588194      1.740575      3.693908   \n",
       "\n",
       "ProdID  ...  1.007940e+42  1.007940e+42  1.008730e+42  1.030521e+42  \\\n",
       "ID      ...                                                           \n",
       "0.0     ...     -0.147485     -0.147485     -0.147485     -0.147485   \n",
       "1.0     ...     -0.128694      4.571306     -0.128694     -0.128694   \n",
       "2.0     ...     -0.108294      2.241706     -0.108294     -0.108294   \n",
       "3.0     ...     -0.125599     -0.125599     -0.125599     -0.125599   \n",
       "4.0     ...     -0.126092      1.207242     -0.126092     -0.126092   \n",
       "\n",
       "ProdID  1.030521e+42  1.030521e+42  1.076430e+42  3.002240e+42  5.002240e+42  \\\n",
       "ID                                                                             \n",
       "0.0        -0.147485     -0.147485      4.852515     -0.147485     -0.147485   \n",
       "1.0         4.871306     -0.128694     -0.128694     -0.128694     -0.128694   \n",
       "2.0        -0.108294     -0.108294     -0.108294     -0.108294     -0.108294   \n",
       "3.0        -0.125599     -0.125599     -0.125599     -0.125599     -0.125599   \n",
       "4.0        -0.126092     -0.126092     -0.126092     -0.126092     -0.126092   \n",
       "\n",
       "ProdID  5.005509e+42  \n",
       "ID                    \n",
       "0.0        -0.147485  \n",
       "1.0        -0.128694  \n",
       "2.0         4.491706  \n",
       "3.0        -0.125599  \n",
       "4.0        -0.126092  \n",
       "\n",
       "[5 rows x 1679 columns]"
      ],
      "text/html": [
       "<div>\n",
       "<style scoped>\n",
       "    .dataframe tbody tr th:only-of-type {\n",
       "        vertical-align: middle;\n",
       "    }\n",
       "\n",
       "    .dataframe tbody tr th {\n",
       "        vertical-align: top;\n",
       "    }\n",
       "\n",
       "    .dataframe thead th {\n",
       "        text-align: right;\n",
       "    }\n",
       "</style>\n",
       "<table border=\"1\" class=\"dataframe\">\n",
       "  <thead>\n",
       "    <tr style=\"text-align: right;\">\n",
       "      <th>ProdID</th>\n",
       "      <th>0.000000e+00</th>\n",
       "      <th>1.000000e+00</th>\n",
       "      <th>2.000000e+00</th>\n",
       "      <th>3.000000e+00</th>\n",
       "      <th>4.000000e+00</th>\n",
       "      <th>5.000000e+00</th>\n",
       "      <th>6.000000e+00</th>\n",
       "      <th>7.000000e+00</th>\n",
       "      <th>8.000000e+00</th>\n",
       "      <th>9.000000e+00</th>\n",
       "      <th>...</th>\n",
       "      <th>1.007940e+42</th>\n",
       "      <th>1.007940e+42</th>\n",
       "      <th>1.008730e+42</th>\n",
       "      <th>1.030521e+42</th>\n",
       "      <th>1.030521e+42</th>\n",
       "      <th>1.030521e+42</th>\n",
       "      <th>1.076430e+42</th>\n",
       "      <th>3.002240e+42</th>\n",
       "      <th>5.002240e+42</th>\n",
       "      <th>5.005509e+42</th>\n",
       "    </tr>\n",
       "    <tr>\n",
       "      <th>ID</th>\n",
       "      <th></th>\n",
       "      <th></th>\n",
       "      <th></th>\n",
       "      <th></th>\n",
       "      <th></th>\n",
       "      <th></th>\n",
       "      <th></th>\n",
       "      <th></th>\n",
       "      <th></th>\n",
       "      <th></th>\n",
       "      <th></th>\n",
       "      <th></th>\n",
       "      <th></th>\n",
       "      <th></th>\n",
       "      <th></th>\n",
       "      <th></th>\n",
       "      <th></th>\n",
       "      <th></th>\n",
       "      <th></th>\n",
       "      <th></th>\n",
       "      <th></th>\n",
       "    </tr>\n",
       "  </thead>\n",
       "  <tbody>\n",
       "    <tr>\n",
       "      <th>0.0</th>\n",
       "      <td>2.692515</td>\n",
       "      <td>1.229438</td>\n",
       "      <td>1.519181</td>\n",
       "      <td>1.440015</td>\n",
       "      <td>1.627515</td>\n",
       "      <td>-0.147485</td>\n",
       "      <td>1.965015</td>\n",
       "      <td>1.827515</td>\n",
       "      <td>0.852515</td>\n",
       "      <td>0.863626</td>\n",
       "      <td>...</td>\n",
       "      <td>-0.147485</td>\n",
       "      <td>-0.147485</td>\n",
       "      <td>-0.147485</td>\n",
       "      <td>-0.147485</td>\n",
       "      <td>-0.147485</td>\n",
       "      <td>-0.147485</td>\n",
       "      <td>4.852515</td>\n",
       "      <td>-0.147485</td>\n",
       "      <td>-0.147485</td>\n",
       "      <td>-0.147485</td>\n",
       "    </tr>\n",
       "    <tr>\n",
       "      <th>1.0</th>\n",
       "      <td>1.591306</td>\n",
       "      <td>-0.128694</td>\n",
       "      <td>1.993529</td>\n",
       "      <td>2.625153</td>\n",
       "      <td>0.571306</td>\n",
       "      <td>2.204640</td>\n",
       "      <td>3.196306</td>\n",
       "      <td>2.221306</td>\n",
       "      <td>-0.128694</td>\n",
       "      <td>2.293529</td>\n",
       "      <td>...</td>\n",
       "      <td>-0.128694</td>\n",
       "      <td>4.571306</td>\n",
       "      <td>-0.128694</td>\n",
       "      <td>-0.128694</td>\n",
       "      <td>4.871306</td>\n",
       "      <td>-0.128694</td>\n",
       "      <td>-0.128694</td>\n",
       "      <td>-0.128694</td>\n",
       "      <td>-0.128694</td>\n",
       "      <td>-0.128694</td>\n",
       "    </tr>\n",
       "    <tr>\n",
       "      <th>2.0</th>\n",
       "      <td>1.177421</td>\n",
       "      <td>1.771706</td>\n",
       "      <td>2.954206</td>\n",
       "      <td>1.471706</td>\n",
       "      <td>2.555343</td>\n",
       "      <td>1.291706</td>\n",
       "      <td>0.658373</td>\n",
       "      <td>2.125040</td>\n",
       "      <td>1.228070</td>\n",
       "      <td>1.791706</td>\n",
       "      <td>...</td>\n",
       "      <td>-0.108294</td>\n",
       "      <td>2.241706</td>\n",
       "      <td>-0.108294</td>\n",
       "      <td>-0.108294</td>\n",
       "      <td>-0.108294</td>\n",
       "      <td>-0.108294</td>\n",
       "      <td>-0.108294</td>\n",
       "      <td>-0.108294</td>\n",
       "      <td>-0.108294</td>\n",
       "      <td>4.491706</td>\n",
       "    </tr>\n",
       "    <tr>\n",
       "      <th>3.0</th>\n",
       "      <td>1.614401</td>\n",
       "      <td>0.999401</td>\n",
       "      <td>1.457735</td>\n",
       "      <td>2.549401</td>\n",
       "      <td>0.660116</td>\n",
       "      <td>3.188687</td>\n",
       "      <td>1.307735</td>\n",
       "      <td>-0.125599</td>\n",
       "      <td>-0.125599</td>\n",
       "      <td>3.414401</td>\n",
       "      <td>...</td>\n",
       "      <td>-0.125599</td>\n",
       "      <td>-0.125599</td>\n",
       "      <td>-0.125599</td>\n",
       "      <td>-0.125599</td>\n",
       "      <td>-0.125599</td>\n",
       "      <td>-0.125599</td>\n",
       "      <td>-0.125599</td>\n",
       "      <td>-0.125599</td>\n",
       "      <td>-0.125599</td>\n",
       "      <td>-0.125599</td>\n",
       "    </tr>\n",
       "    <tr>\n",
       "      <th>4.0</th>\n",
       "      <td>3.398908</td>\n",
       "      <td>0.523908</td>\n",
       "      <td>2.336408</td>\n",
       "      <td>1.833908</td>\n",
       "      <td>1.423908</td>\n",
       "      <td>1.816765</td>\n",
       "      <td>0.323908</td>\n",
       "      <td>2.588194</td>\n",
       "      <td>1.740575</td>\n",
       "      <td>3.693908</td>\n",
       "      <td>...</td>\n",
       "      <td>-0.126092</td>\n",
       "      <td>1.207242</td>\n",
       "      <td>-0.126092</td>\n",
       "      <td>-0.126092</td>\n",
       "      <td>-0.126092</td>\n",
       "      <td>-0.126092</td>\n",
       "      <td>-0.126092</td>\n",
       "      <td>-0.126092</td>\n",
       "      <td>-0.126092</td>\n",
       "      <td>-0.126092</td>\n",
       "    </tr>\n",
       "  </tbody>\n",
       "</table>\n",
       "<p>5 rows × 1679 columns</p>\n",
       "</div>"
      ]
     },
     "execution_count": 6,
     "metadata": {},
     "output_type": "execute_result"
    }
   ],
   "execution_count": 6
  },
  {
   "metadata": {
    "ExecuteTime": {
     "end_time": "2025-01-09T16:36:47.979610Z",
     "start_time": "2025-01-09T16:36:47.922318Z"
    }
   },
   "cell_type": "code",
   "source": [
    "user_item_matrix_np = normalized_user_item_matrix.values\n",
    "\n",
    "# Tính toán cosine similarity giữa các người dùng\n",
    "cosine_similarities = cosine_similarity(user_item_matrix_np)\n",
    "\n",
    "# Chuyển đổi cosine_similarities thành DataFrame để dễ dàng kiểm tra\n",
    "cosine_similarities_df = pd.DataFrame(cosine_similarities, index=user_item_matrix.index, columns=user_item_matrix.index)\n",
    "\n",
    "# Hiển thị kết quả\n",
    "cosine_similarities_df.head()"
   ],
   "id": "25143cc88895bbe5",
   "outputs": [
    {
     "data": {
      "text/plain": [
       "ID   0.000000e+00  1.000000e+00  2.000000e+00  3.000000e+00  4.000000e+00  \\\n",
       "ID                                                                          \n",
       "0.0      1.000000      0.056780      0.074674      0.080071      0.051679   \n",
       "1.0      0.056780      1.000000      0.070050      0.114000      0.090716   \n",
       "2.0      0.074674      0.070050      1.000000      0.032574      0.038201   \n",
       "3.0      0.080071      0.114000      0.032574      1.000000      0.092033   \n",
       "4.0      0.051679      0.090716      0.038201      0.092033      1.000000   \n",
       "\n",
       "ID   5.000000e+00  6.000000e+00  7.000000e+00  8.000000e+00  9.000000e+00  \\\n",
       "ID                                                                          \n",
       "0.0      0.056129      0.062366      0.073664      0.081859      0.040365   \n",
       "1.0      0.080503      0.155968      0.053271      0.149287      0.067203   \n",
       "2.0      0.059718      0.098394      0.081552      0.072064      0.047780   \n",
       "3.0      0.064611      0.106611      0.085768      0.069912      0.058103   \n",
       "4.0      0.138002      0.139770      0.085871      0.085568      0.144743   \n",
       "\n",
       "ID   ...  2.798841e+12  3.517758e+12  4.799034e+12  8.186981e+12  \\\n",
       "ID   ...                                                           \n",
       "0.0  ...      0.027585      0.049157      0.027585           0.0   \n",
       "1.0  ...     -0.004379      0.067840     -0.004379           0.0   \n",
       "2.0  ...      0.046556      0.111993      0.046556           0.0   \n",
       "3.0  ...     -0.004253      0.049365     -0.004253           0.0   \n",
       "4.0  ...      0.060284      0.080920      0.060284           0.0   \n",
       "\n",
       "ID   8.684094e+12  9.967409e+13  6.094514e+14  3.007694e+17  3.081297e+19  \\\n",
       "ID                                                                          \n",
       "0.0     -0.004772     -0.004772           0.0     -0.004772      0.027585   \n",
       "1.0     -0.004379     -0.004379           0.0     -0.004379     -0.004379   \n",
       "2.0     -0.004105     -0.004105           0.0     -0.004105      0.046556   \n",
       "3.0     -0.004253     -0.004253           0.0     -0.004253     -0.004253   \n",
       "4.0     -0.004367     -0.004367           0.0     -0.004367      0.060284   \n",
       "\n",
       "ID   8.148290e+23  \n",
       "ID                 \n",
       "0.0           0.0  \n",
       "1.0           0.0  \n",
       "2.0           0.0  \n",
       "3.0           0.0  \n",
       "4.0           0.0  \n",
       "\n",
       "[5 rows x 1712 columns]"
      ],
      "text/html": [
       "<div>\n",
       "<style scoped>\n",
       "    .dataframe tbody tr th:only-of-type {\n",
       "        vertical-align: middle;\n",
       "    }\n",
       "\n",
       "    .dataframe tbody tr th {\n",
       "        vertical-align: top;\n",
       "    }\n",
       "\n",
       "    .dataframe thead th {\n",
       "        text-align: right;\n",
       "    }\n",
       "</style>\n",
       "<table border=\"1\" class=\"dataframe\">\n",
       "  <thead>\n",
       "    <tr style=\"text-align: right;\">\n",
       "      <th>ID</th>\n",
       "      <th>0.000000e+00</th>\n",
       "      <th>1.000000e+00</th>\n",
       "      <th>2.000000e+00</th>\n",
       "      <th>3.000000e+00</th>\n",
       "      <th>4.000000e+00</th>\n",
       "      <th>5.000000e+00</th>\n",
       "      <th>6.000000e+00</th>\n",
       "      <th>7.000000e+00</th>\n",
       "      <th>8.000000e+00</th>\n",
       "      <th>9.000000e+00</th>\n",
       "      <th>...</th>\n",
       "      <th>2.798841e+12</th>\n",
       "      <th>3.517758e+12</th>\n",
       "      <th>4.799034e+12</th>\n",
       "      <th>8.186981e+12</th>\n",
       "      <th>8.684094e+12</th>\n",
       "      <th>9.967409e+13</th>\n",
       "      <th>6.094514e+14</th>\n",
       "      <th>3.007694e+17</th>\n",
       "      <th>3.081297e+19</th>\n",
       "      <th>8.148290e+23</th>\n",
       "    </tr>\n",
       "    <tr>\n",
       "      <th>ID</th>\n",
       "      <th></th>\n",
       "      <th></th>\n",
       "      <th></th>\n",
       "      <th></th>\n",
       "      <th></th>\n",
       "      <th></th>\n",
       "      <th></th>\n",
       "      <th></th>\n",
       "      <th></th>\n",
       "      <th></th>\n",
       "      <th></th>\n",
       "      <th></th>\n",
       "      <th></th>\n",
       "      <th></th>\n",
       "      <th></th>\n",
       "      <th></th>\n",
       "      <th></th>\n",
       "      <th></th>\n",
       "      <th></th>\n",
       "      <th></th>\n",
       "      <th></th>\n",
       "    </tr>\n",
       "  </thead>\n",
       "  <tbody>\n",
       "    <tr>\n",
       "      <th>0.0</th>\n",
       "      <td>1.000000</td>\n",
       "      <td>0.056780</td>\n",
       "      <td>0.074674</td>\n",
       "      <td>0.080071</td>\n",
       "      <td>0.051679</td>\n",
       "      <td>0.056129</td>\n",
       "      <td>0.062366</td>\n",
       "      <td>0.073664</td>\n",
       "      <td>0.081859</td>\n",
       "      <td>0.040365</td>\n",
       "      <td>...</td>\n",
       "      <td>0.027585</td>\n",
       "      <td>0.049157</td>\n",
       "      <td>0.027585</td>\n",
       "      <td>0.0</td>\n",
       "      <td>-0.004772</td>\n",
       "      <td>-0.004772</td>\n",
       "      <td>0.0</td>\n",
       "      <td>-0.004772</td>\n",
       "      <td>0.027585</td>\n",
       "      <td>0.0</td>\n",
       "    </tr>\n",
       "    <tr>\n",
       "      <th>1.0</th>\n",
       "      <td>0.056780</td>\n",
       "      <td>1.000000</td>\n",
       "      <td>0.070050</td>\n",
       "      <td>0.114000</td>\n",
       "      <td>0.090716</td>\n",
       "      <td>0.080503</td>\n",
       "      <td>0.155968</td>\n",
       "      <td>0.053271</td>\n",
       "      <td>0.149287</td>\n",
       "      <td>0.067203</td>\n",
       "      <td>...</td>\n",
       "      <td>-0.004379</td>\n",
       "      <td>0.067840</td>\n",
       "      <td>-0.004379</td>\n",
       "      <td>0.0</td>\n",
       "      <td>-0.004379</td>\n",
       "      <td>-0.004379</td>\n",
       "      <td>0.0</td>\n",
       "      <td>-0.004379</td>\n",
       "      <td>-0.004379</td>\n",
       "      <td>0.0</td>\n",
       "    </tr>\n",
       "    <tr>\n",
       "      <th>2.0</th>\n",
       "      <td>0.074674</td>\n",
       "      <td>0.070050</td>\n",
       "      <td>1.000000</td>\n",
       "      <td>0.032574</td>\n",
       "      <td>0.038201</td>\n",
       "      <td>0.059718</td>\n",
       "      <td>0.098394</td>\n",
       "      <td>0.081552</td>\n",
       "      <td>0.072064</td>\n",
       "      <td>0.047780</td>\n",
       "      <td>...</td>\n",
       "      <td>0.046556</td>\n",
       "      <td>0.111993</td>\n",
       "      <td>0.046556</td>\n",
       "      <td>0.0</td>\n",
       "      <td>-0.004105</td>\n",
       "      <td>-0.004105</td>\n",
       "      <td>0.0</td>\n",
       "      <td>-0.004105</td>\n",
       "      <td>0.046556</td>\n",
       "      <td>0.0</td>\n",
       "    </tr>\n",
       "    <tr>\n",
       "      <th>3.0</th>\n",
       "      <td>0.080071</td>\n",
       "      <td>0.114000</td>\n",
       "      <td>0.032574</td>\n",
       "      <td>1.000000</td>\n",
       "      <td>0.092033</td>\n",
       "      <td>0.064611</td>\n",
       "      <td>0.106611</td>\n",
       "      <td>0.085768</td>\n",
       "      <td>0.069912</td>\n",
       "      <td>0.058103</td>\n",
       "      <td>...</td>\n",
       "      <td>-0.004253</td>\n",
       "      <td>0.049365</td>\n",
       "      <td>-0.004253</td>\n",
       "      <td>0.0</td>\n",
       "      <td>-0.004253</td>\n",
       "      <td>-0.004253</td>\n",
       "      <td>0.0</td>\n",
       "      <td>-0.004253</td>\n",
       "      <td>-0.004253</td>\n",
       "      <td>0.0</td>\n",
       "    </tr>\n",
       "    <tr>\n",
       "      <th>4.0</th>\n",
       "      <td>0.051679</td>\n",
       "      <td>0.090716</td>\n",
       "      <td>0.038201</td>\n",
       "      <td>0.092033</td>\n",
       "      <td>1.000000</td>\n",
       "      <td>0.138002</td>\n",
       "      <td>0.139770</td>\n",
       "      <td>0.085871</td>\n",
       "      <td>0.085568</td>\n",
       "      <td>0.144743</td>\n",
       "      <td>...</td>\n",
       "      <td>0.060284</td>\n",
       "      <td>0.080920</td>\n",
       "      <td>0.060284</td>\n",
       "      <td>0.0</td>\n",
       "      <td>-0.004367</td>\n",
       "      <td>-0.004367</td>\n",
       "      <td>0.0</td>\n",
       "      <td>-0.004367</td>\n",
       "      <td>0.060284</td>\n",
       "      <td>0.0</td>\n",
       "    </tr>\n",
       "  </tbody>\n",
       "</table>\n",
       "<p>5 rows × 1712 columns</p>\n",
       "</div>"
      ]
     },
     "execution_count": 7,
     "metadata": {},
     "output_type": "execute_result"
    }
   ],
   "execution_count": 7
  },
  {
   "metadata": {
    "ExecuteTime": {
     "end_time": "2025-01-09T16:36:48.846409Z",
     "start_time": "2025-01-09T16:36:48.620530Z"
    }
   },
   "cell_type": "code",
   "source": [
    "def predict_ratings(user_id, clean_data, user_item_matrix, cosine_similarities_df, k=10, number_of_products=10):\n",
    "    # Bước 1: Lấy index của người dùng từ clean_data\n",
    "    user_index = clean_data[clean_data['ID'] == user_id].index[0]\n",
    "    \n",
    "    # Bước 2: Lấy k người dùng gần nhất từ cosine similarity\n",
    "    similar_users = cosine_similarities_df.iloc[user_index].sort_values(ascending=False).iloc[1:k+1].index.tolist()\n",
    "    similarity_scores = cosine_similarities_df.iloc[user_index].sort_values(ascending=False).iloc[1:k+1].values\n",
    "    \n",
    "    # Bước 3: Lấy các sản phẩm mà user chưa đánh giá\n",
    "    unrated_products = user_item_matrix.loc[user_id][user_item_matrix.loc[user_id] == 0.0].index\n",
    "    \n",
    "    predicted_ratings = {}\n",
    "    \n",
    "    # Bước 4: Dự đoán rating cho từng sản phẩm chưa đánh giá\n",
    "    for product in unrated_products:\n",
    "        numerator = 0\n",
    "        denominator = 0\n",
    "        for similar_user, similarity_score in zip(similar_users, similarity_scores):\n",
    "            # Lấy rating của người dùng tương tự cho sản phẩm hiện tại\n",
    "            similar_user_rating = user_item_matrix.loc[similar_user, product]\n",
    "            if similar_user_rating > 0:  # Chỉ xem xét sản phẩm mà người dùng tương tự đã đánh giá\n",
    "                numerator += similarity_score * similar_user_rating\n",
    "                denominator += abs(similarity_score)\n",
    "        \n",
    "        # Nếu denominator != 0, tính rating dự đoán\n",
    "        if denominator != 0:\n",
    "            predicted_ratings[product] = numerator / denominator\n",
    "        else:\n",
    "            predicted_ratings[product] = 0  # Nếu không có rating từ người dùng tương tự, gán 0\n",
    "    \n",
    "    # Bước 5: Sắp xếp các sản phẩm theo predicted rating giảm dần và lấy số lượng sản phẩm theo number_of_products\n",
    "    sorted_predicted_ratings = sorted(predicted_ratings.items(), key=lambda x: x[1], reverse=True)\n",
    "    \n",
    "    # Trả về số lượng sản phẩm được yêu cầu (number_of_products)\n",
    "    top_recommendations = sorted_predicted_ratings[:number_of_products]\n",
    "    \n",
    "    # Trả về kết quả (prod_id, predicted_rating)\n",
    "    return top_recommendations\n",
    "\n",
    "# Ví dụ sử dụng hàm cho một user_id cụ thể và số lượng sản phẩm gợi ý\n",
    "user_id = 95  # Thay thế bằng user_id cần dự đoán\n",
    "number_of_products = 10  # Số lượng sản phẩm cần gợi ý\n",
    "top_recommendations = predict_ratings(user_id, clean_data, user_item_matrix, cosine_similarities_df, k=10, number_of_products=number_of_products)\n",
    "\n",
    "# Hiển thị kết quả\n",
    "top_recommendations\n"
   ],
   "id": "41171943e64a78e",
   "outputs": [
    {
     "data": {
      "text/plain": [
       "[(37.0, np.float64(5.0)),\n",
       " (98.0, np.float64(5.0)),\n",
       " (655.0, np.float64(5.0)),\n",
       " (4759.0, np.float64(5.0)),\n",
       " (6468.0, np.float64(5.0)),\n",
       " (60869.0, np.float64(5.0)),\n",
       " (3532620.0, np.float64(5.0)),\n",
       " (2135948483.0, np.float64(5.0)),\n",
       " (9372895838461112.0, np.float64(5.0)),\n",
       " (15.0, np.float64(4.8))]"
      ]
     },
     "execution_count": 8,
     "metadata": {},
     "output_type": "execute_result"
    }
   ],
   "execution_count": 8
  },
  {
   "metadata": {
    "ExecuteTime": {
     "end_time": "2025-01-09T16:36:48.863961Z",
     "start_time": "2025-01-09T16:36:48.859933Z"
    }
   },
   "cell_type": "code",
   "source": [
    "def calculate_ratio(top_recommendations, lowerbound_rating=3.5):\n",
    "    # Bước 1: Đếm số lượng sản phẩm có rating > lowerbound_rating\n",
    "    count_above_lowerbound = sum(1 for _, rating in top_recommendations if rating > lowerbound_rating)\n",
    "    \n",
    "    # Bước 2: Tính tỷ lệ\n",
    "    ratio = count_above_lowerbound / len(top_recommendations) if len(top_recommendations) > 0 else 0\n",
    "    \n",
    "    return ratio"
   ],
   "id": "1c0866ff4d5a1db9",
   "outputs": [],
   "execution_count": 9
  },
  {
   "metadata": {
    "ExecuteTime": {
     "end_time": "2025-01-09T16:36:51.942681Z",
     "start_time": "2025-01-09T16:36:51.938671Z"
    }
   },
   "cell_type": "code",
   "source": [
    "ratio = calculate_ratio(top_recommendations)\n",
    "\n",
    "# Hiển thị kết quả\n",
    "print(f\"Ratio of products useful: {ratio:.2f}\")"
   ],
   "id": "97aa3ca096baf332",
   "outputs": [
    {
     "name": "stdout",
     "output_type": "stream",
     "text": [
      "Ratio of products useful: 1.00\n"
     ]
    }
   ],
   "execution_count": 10
  },
  {
   "metadata": {
    "ExecuteTime": {
     "end_time": "2025-01-09T16:36:53.736372Z",
     "start_time": "2025-01-09T16:36:53.731765Z"
    }
   },
   "cell_type": "code",
   "source": [
    "\n",
    "def evaluate_all_users(clean_data, user_item_matrix, cosine_similarities_df, k=10, lowerbound_rating=3, top_n =10 ):\n",
    "    ratios = []  # Danh sách lưu các tỷ lệ\n",
    "    \n",
    "    # Vòng lặp qua các user_id trong clean_data\n",
    "    for idx in range(len(clean_data['ID'].unique())-1): \n",
    "        user_id = clean_data.iloc[idx]['ID']  # Lấy user_id từ clean_data\n",
    "        \n",
    "        # Tính top recommendations cho user_id\n",
    "        top_recommendations = predict_ratings(user_id, clean_data, user_item_matrix, cosine_similarities_df, k=k , number_of_products=top_n)\n",
    "        \n",
    "        # Tính tỷ lệ cho top recommendations\n",
    "        ratio = calculate_ratio(top_recommendations, lowerbound_rating)\n",
    "        \n",
    "        # Thêm tỷ lệ vào danh sách\n",
    "        ratios.append(ratio)\n",
    "    \n",
    "    \n",
    "    # Tạo một DataFrame từ mảng ratios để sử dụng describe()\n",
    "    ratios_df = pd.Series(ratios)\n",
    "    \n",
    "    # Sử dụng describe() để có thông tin thống kê mô tả\n",
    "    print(ratios_df.describe())\n",
    "    \n",
    "    return ratios_df\n",
    "\n",
    "\n"
   ],
   "id": "267908efc19681cd",
   "outputs": [],
   "execution_count": 11
  },
  {
   "metadata": {
    "ExecuteTime": {
     "end_time": "2025-01-09T16:39:29.499070Z",
     "start_time": "2025-01-09T16:37:04.720687Z"
    }
   },
   "cell_type": "code",
   "source": "ratios_df = evaluate_all_users(clean_data, user_item_matrix, cosine_similarities_df, k=10, lowerbound_rating=3 , top_n =10)",
   "id": "710fab5fb66205eb",
   "outputs": [
    {
     "name": "stdout",
     "output_type": "stream",
     "text": [
      "count    1711.000000\n",
      "mean        0.163296\n",
      "std         0.279175\n",
      "min         0.000000\n",
      "25%         0.000000\n",
      "50%         0.000000\n",
      "75%         0.200000\n",
      "max         1.000000\n",
      "dtype: float64\n"
     ]
    }
   ],
   "execution_count": 12
  },
  {
   "metadata": {
    "ExecuteTime": {
     "end_time": "2025-01-08T20:39:16.027409Z",
     "start_time": "2025-01-08T20:38:15.114669Z"
    }
   },
   "cell_type": "code",
   "source": "ratios_df2 = evaluate_all_users(clean_data, user_item_matrix, cosine_similarities_df, k=3, lowerbound_rating=3 , top_n =10)",
   "id": "498d7923671aa419",
   "outputs": [
    {
     "name": "stdout",
     "output_type": "stream",
     "text": [
      "count    1711.000000\n",
      "mean        0.089831\n",
      "std         0.186884\n",
      "min         0.000000\n",
      "25%         0.000000\n",
      "50%         0.000000\n",
      "75%         0.100000\n",
      "max         1.000000\n",
      "dtype: float64\n"
     ]
    }
   ],
   "execution_count": 12
  },
  {
   "metadata": {
    "ExecuteTime": {
     "end_time": "2025-01-08T20:41:33.608277Z",
     "start_time": "2025-01-08T20:39:16.150465Z"
    }
   },
   "cell_type": "code",
   "source": "ratios_df3 = evaluate_all_users(clean_data, user_item_matrix, cosine_similarities_df, k=5, lowerbound_rating=3 , top_n =10)",
   "id": "7a9e0860e86c5da0",
   "outputs": [
    {
     "name": "stdout",
     "output_type": "stream",
     "text": [
      "count    1711.000000\n",
      "mean        0.122501\n",
      "std         0.241515\n",
      "min         0.000000\n",
      "25%         0.000000\n",
      "50%         0.000000\n",
      "75%         0.100000\n",
      "max         1.000000\n",
      "dtype: float64\n"
     ]
    }
   ],
   "execution_count": 13
  },
  {
   "metadata": {
    "ExecuteTime": {
     "end_time": "2025-01-08T20:43:11.059608Z",
     "start_time": "2025-01-08T20:41:33.755957Z"
    }
   },
   "cell_type": "code",
   "source": "ratios_df5 = evaluate_all_users(clean_data, user_item_matrix, cosine_similarities_df, k=3, lowerbound_rating=3 , top_n =5)",
   "id": "981777a067c3feae",
   "outputs": [
    {
     "name": "stdout",
     "output_type": "stream",
     "text": [
      "count    1711.000000\n",
      "mean        0.147516\n",
      "std         0.237096\n",
      "min         0.000000\n",
      "25%         0.000000\n",
      "50%         0.000000\n",
      "75%         0.200000\n",
      "max         1.000000\n",
      "dtype: float64\n"
     ]
    }
   ],
   "execution_count": 14
  },
  {
   "metadata": {
    "ExecuteTime": {
     "end_time": "2025-01-08T20:44:05.073015Z",
     "start_time": "2025-01-08T20:43:11.059608Z"
    }
   },
   "cell_type": "code",
   "source": "ratios_df6 = evaluate_all_users(clean_data, user_item_matrix, cosine_similarities_df, k=5, lowerbound_rating=3 , top_n =5)",
   "id": "a248d2a168f2ed5c",
   "outputs": [
    {
     "name": "stdout",
     "output_type": "stream",
     "text": [
      "count    1711.000000\n",
      "mean        0.185389\n",
      "std         0.290105\n",
      "min         0.000000\n",
      "25%         0.000000\n",
      "50%         0.000000\n",
      "75%         0.200000\n",
      "max         1.000000\n",
      "dtype: float64\n"
     ]
    }
   ],
   "execution_count": 15
  },
  {
   "metadata": {
    "ExecuteTime": {
     "end_time": "2025-01-08T20:49:42.689043Z",
     "start_time": "2025-01-08T20:44:05.096270Z"
    }
   },
   "cell_type": "code",
   "source": "ratios_df8 = evaluate_all_users(clean_data, user_item_matrix, cosine_similarities_df, k=10, lowerbound_rating=3 , top_n =5)",
   "id": "2c40d7a529e76e51",
   "outputs": [
    {
     "name": "stdout",
     "output_type": "stream",
     "text": [
      "count    1711.000000\n",
      "mean        0.247341\n",
      "std         0.347662\n",
      "min         0.000000\n",
      "25%         0.000000\n",
      "50%         0.000000\n",
      "75%         0.400000\n",
      "max         1.000000\n",
      "dtype: float64\n"
     ]
    }
   ],
   "execution_count": 16
  },
  {
   "metadata": {
    "ExecuteTime": {
     "end_time": "2025-01-08T20:57:01.891061Z",
     "start_time": "2025-01-08T20:49:42.759582Z"
    }
   },
   "cell_type": "code",
   "source": "ratios_df9 = evaluate_all_users(clean_data, user_item_matrix, cosine_similarities_df, k=15, lowerbound_rating=3 , top_n =10)",
   "id": "c46cf58db1eaf99e",
   "outputs": [
    {
     "name": "stdout",
     "output_type": "stream",
     "text": [
      "count    1711.000000\n",
      "mean        0.212098\n",
      "std         0.347892\n",
      "min         0.000000\n",
      "25%         0.000000\n",
      "50%         0.000000\n",
      "75%         0.200000\n",
      "max         1.000000\n",
      "dtype: float64\n"
     ]
    }
   ],
   "execution_count": 17
  },
  {
   "metadata": {
    "ExecuteTime": {
     "end_time": "2025-01-08T21:07:22.142583Z",
     "start_time": "2025-01-08T20:57:02.073221Z"
    }
   },
   "cell_type": "code",
   "source": "ratios_df10 = evaluate_all_users(clean_data, user_item_matrix, cosine_similarities_df, k=20, lowerbound_rating=3 , top_n =10)",
   "id": "a26c1e292f13ef79",
   "outputs": [
    {
     "name": "stdout",
     "output_type": "stream",
     "text": [
      "count    1711.000000\n",
      "mean        0.220514\n",
      "std         0.364066\n",
      "min         0.000000\n",
      "25%         0.000000\n",
      "50%         0.000000\n",
      "75%         0.200000\n",
      "max         1.000000\n",
      "dtype: float64\n"
     ]
    }
   ],
   "execution_count": 18
  },
  {
   "metadata": {
    "ExecuteTime": {
     "end_time": "2025-01-08T21:16:01.718588Z",
     "start_time": "2025-01-08T21:07:22.250232Z"
    }
   },
   "cell_type": "code",
   "source": "ratios_df11 = evaluate_all_users(clean_data, user_item_matrix, cosine_similarities_df, k=15, lowerbound_rating=3 , top_n =5)",
   "id": "9900e15ce4a19925",
   "outputs": [
    {
     "name": "stdout",
     "output_type": "stream",
     "text": [
      "count    1711.000000\n",
      "mean        0.272589\n",
      "std         0.382348\n",
      "min         0.000000\n",
      "25%         0.000000\n",
      "50%         0.000000\n",
      "75%         0.400000\n",
      "max         1.000000\n",
      "dtype: float64\n"
     ]
    }
   ],
   "execution_count": 19
  },
  {
   "metadata": {
    "ExecuteTime": {
     "end_time": "2025-01-09T09:23:19.510434Z",
     "start_time": "2025-01-09T09:17:30.572731Z"
    }
   },
   "cell_type": "code",
   "source": "ratios_df12 = evaluate_all_users(clean_data, user_item_matrix, cosine_similarities_df, k=20, lowerbound_rating=3 , top_n =5)",
   "id": "31b5e2f9cbb04df8",
   "outputs": [
    {
     "name": "stdout",
     "output_type": "stream",
     "text": [
      "count    1711.000000\n",
      "mean        0.272589\n",
      "std         0.382348\n",
      "min         0.000000\n",
      "25%         0.000000\n",
      "50%         0.000000\n",
      "75%         0.400000\n",
      "max         1.000000\n",
      "dtype: float64\n"
     ]
    }
   ],
   "execution_count": 13
  },
  {
   "metadata": {
    "ExecuteTime": {
     "end_time": "2025-01-09T16:40:08.292076Z",
     "start_time": "2025-01-09T16:39:29.513101Z"
    }
   },
   "cell_type": "code",
   "source": "ratios_df13 = evaluate_all_users(clean_data, user_item_matrix, cosine_similarities_df, k=3, lowerbound_rating=3 , top_n =20)",
   "id": "5f804d26769a0d81",
   "outputs": [
    {
     "name": "stdout",
     "output_type": "stream",
     "text": [
      "count    1711.000000\n",
      "mean        0.057481\n",
      "std         0.161940\n",
      "min         0.000000\n",
      "25%         0.000000\n",
      "50%         0.000000\n",
      "75%         0.050000\n",
      "max         1.000000\n",
      "dtype: float64\n"
     ]
    }
   ],
   "execution_count": 13
  },
  {
   "metadata": {
    "ExecuteTime": {
     "end_time": "2025-01-09T16:41:25.165792Z",
     "start_time": "2025-01-09T16:40:08.314753Z"
    }
   },
   "cell_type": "code",
   "source": "ratios_df14 = evaluate_all_users(clean_data, user_item_matrix, cosine_similarities_df, k=5, lowerbound_rating=3 , top_n =20)",
   "id": "76bdf9a0f269d4a7",
   "outputs": [
    {
     "name": "stdout",
     "output_type": "stream",
     "text": [
      "count    1711.000000\n",
      "mean        0.086178\n",
      "std         0.219603\n",
      "min         0.000000\n",
      "25%         0.000000\n",
      "50%         0.000000\n",
      "75%         0.050000\n",
      "max         1.000000\n",
      "dtype: float64\n"
     ]
    }
   ],
   "execution_count": 14
  },
  {
   "metadata": {
    "ExecuteTime": {
     "end_time": "2025-01-09T16:43:31.043644Z",
     "start_time": "2025-01-09T16:41:25.189077Z"
    }
   },
   "cell_type": "code",
   "source": "ratios_df15 = evaluate_all_users(clean_data, user_item_matrix, cosine_similarities_df, k=10, lowerbound_rating=3 , top_n =20)",
   "id": "43fcce9376db5dd4",
   "outputs": [
    {
     "name": "stdout",
     "output_type": "stream",
     "text": [
      "count    1711.000000\n",
      "mean        0.117446\n",
      "std         0.256941\n",
      "min         0.000000\n",
      "25%         0.000000\n",
      "50%         0.000000\n",
      "75%         0.100000\n",
      "max         1.000000\n",
      "dtype: float64\n"
     ]
    }
   ],
   "execution_count": 15
  },
  {
   "metadata": {
    "ExecuteTime": {
     "end_time": "2025-01-09T16:53:13.114186Z",
     "start_time": "2025-01-09T16:43:31.172491Z"
    }
   },
   "cell_type": "code",
   "source": "ratios_df16 = evaluate_all_users(clean_data, user_item_matrix, cosine_similarities_df, k=15, lowerbound_rating=3 , top_n =20)",
   "id": "b68b93f5c0a7e5ac",
   "outputs": [
    {
     "name": "stdout",
     "output_type": "stream",
     "text": [
      "count    1711.000000\n",
      "mean        0.146815\n",
      "std         0.281350\n",
      "min         0.000000\n",
      "25%         0.000000\n",
      "50%         0.000000\n",
      "75%         0.100000\n",
      "max         1.000000\n",
      "dtype: float64\n"
     ]
    }
   ],
   "execution_count": 16
  },
  {
   "metadata": {
    "ExecuteTime": {
     "end_time": "2025-01-09T16:59:33.695056Z",
     "start_time": "2025-01-09T16:53:13.166399Z"
    }
   },
   "cell_type": "code",
   "source": "ratios_df17 = evaluate_all_users(clean_data, user_item_matrix, cosine_similarities_df, k=20, lowerbound_rating=3 , top_n =20)",
   "id": "56d1bbd58a8de23f",
   "outputs": [
    {
     "name": "stdout",
     "output_type": "stream",
     "text": [
      "count    1711.000000\n",
      "mean        0.178726\n",
      "std         0.336768\n",
      "min         0.000000\n",
      "25%         0.000000\n",
      "50%         0.000000\n",
      "75%         0.100000\n",
      "max         1.000000\n",
      "dtype: float64\n"
     ]
    }
   ],
   "execution_count": 17
  },
  {
   "metadata": {
    "ExecuteTime": {
     "end_time": "2025-01-09T17:07:57.243269Z",
     "start_time": "2025-01-09T16:59:33.806561Z"
    }
   },
   "cell_type": "code",
   "source": "ratios_df18 = evaluate_all_users(clean_data, user_item_matrix, cosine_similarities_df, k=50, lowerbound_rating=3 , top_n =5)",
   "id": "ea7afd6692bdfce0",
   "outputs": [
    {
     "name": "stdout",
     "output_type": "stream",
     "text": [
      "count    1711.000000\n",
      "mean        0.532320\n",
      "std         0.484691\n",
      "min         0.000000\n",
      "25%         0.000000\n",
      "50%         1.000000\n",
      "75%         1.000000\n",
      "max         1.000000\n",
      "dtype: float64\n"
     ]
    }
   ],
   "execution_count": 18
  },
  {
   "metadata": {
    "ExecuteTime": {
     "end_time": "2025-01-09T17:16:30.345801Z",
     "start_time": "2025-01-09T17:07:57.371590Z"
    }
   },
   "cell_type": "code",
   "source": "ratios_df19 = evaluate_all_users(clean_data, user_item_matrix, cosine_similarities_df, k=50, lowerbound_rating=3 , top_n =10)",
   "id": "782aeb45e3a82803",
   "outputs": [
    {
     "name": "stdout",
     "output_type": "stream",
     "text": [
      "count    1711.000000\n",
      "mean        0.512215\n",
      "std         0.485458\n",
      "min         0.000000\n",
      "25%         0.000000\n",
      "50%         0.500000\n",
      "75%         1.000000\n",
      "max         1.000000\n",
      "dtype: float64\n"
     ]
    }
   ],
   "execution_count": 19
  },
  {
   "metadata": {
    "ExecuteTime": {
     "end_time": "2025-01-09T17:24:59.581776Z",
     "start_time": "2025-01-09T17:16:30.376379Z"
    }
   },
   "cell_type": "code",
   "source": "ratios_df20 = evaluate_all_users(clean_data, user_item_matrix, cosine_similarities_df, k=50, lowerbound_rating=3 , top_n =20)",
   "id": "4b5dfca961bc9bdf",
   "outputs": [
    {
     "name": "stdout",
     "output_type": "stream",
     "text": [
      "count    1711.000000\n",
      "mean        0.488486\n",
      "std         0.481720\n",
      "min         0.000000\n",
      "25%         0.000000\n",
      "50%         0.250000\n",
      "75%         1.000000\n",
      "max         1.000000\n",
      "dtype: float64\n"
     ]
    }
   ],
   "execution_count": 20
  },
  {
   "metadata": {
    "ExecuteTime": {
     "end_time": "2025-01-03T06:42:13.812250Z",
     "start_time": "2025-01-03T06:42:13.808637Z"
    }
   },
   "cell_type": "code",
   "source": [
    "def collaborative_filtering_recommendations(target_user_id, top_n=10 , k = 10 ):\n",
    "    # Load the clean dataset\n",
    "    df = pd.read_csv('data/clean_data.csv')\n",
    "    clean_data = df[['ID', 'ProdID', 'Rating']]\n",
    "\n",
    "    # Create the user-item matrix\n",
    "    user_item_matrix = clean_data.pivot_table(index='ID', columns='ProdID', values='Rating', fill_value=0)\n",
    "    user_means = user_item_matrix.mean(axis=1)\n",
    "\n",
    "    # Normalize ratings by subtracting user means\n",
    "    normalized_user_item_matrix = user_item_matrix.subtract(user_means, axis=0)\n",
    "    user_item_matrix_np = normalized_user_item_matrix.values\n",
    "\n",
    "    # Compute cosine similarity between users\n",
    "    cosine_similarities = cosine_similarity(user_item_matrix_np)\n",
    "\n",
    "    # Convert cosine similarities into a DataFrame\n",
    "    cosine_similarities_df = pd.DataFrame(cosine_similarities, index=user_item_matrix.index,\n",
    "                                          columns=user_item_matrix.index)\n",
    "\n",
    "    # Predict ratings using the predict_ratings function\n",
    "    top_recommendations = predict_ratings(\n",
    "        user_id=target_user_id,\n",
    "        clean_data=clean_data,\n",
    "        user_item_matrix=user_item_matrix,\n",
    "        cosine_similarities_df=cosine_similarities_df,\n",
    "        k=k,\n",
    "        number_of_products=top_n\n",
    "    )\n",
    "\n",
    "    # Extract product IDs from the recommendations\n",
    "    recommended_product_ids = [prod_id for prod_id, _ in top_recommendations]\n",
    "\n",
    "    # Extract details of the recommended products from the original dataset\n",
    "    recommended_item_indices = df[df['ProdID'].isin(recommended_product_ids)].index\n",
    "    recommended_items_details = df.iloc[recommended_item_indices][\n",
    "        ['Name', 'ImageURL', 'Brand', 'Rating', 'ReviewCount', 'Description', 'Price']\n",
    "    ]\n",
    "\n",
    "    # Return the detailed recommended items\n",
    "    return recommended_items_details"
   ],
   "id": "6596e9846ff409b3",
   "outputs": [],
   "execution_count": 22
  },
  {
   "metadata": {
    "ExecuteTime": {
     "end_time": "2025-01-03T06:42:14.591555Z",
     "start_time": "2025-01-03T06:42:14.303116Z"
    }
   },
   "cell_type": "code",
   "source": [
    "recommend = collaborative_filtering_recommendations(1705736792)\n",
    "recommend"
   ],
   "id": "81ee06d7f52a1aee",
   "outputs": [
    {
     "data": {
      "text/plain": [
       "                                                   Name  \\\n",
       "0     OPI Infinite Shine, Nail Lacquer Nail Polish, ...   \n",
       "7     BMC Bright and Loud Cream Gel Lacquer Polish S...   \n",
       "15    Clairol Natural Instincts Demi-Permanent Hair ...   \n",
       "20    LOreal Paris Excellence Creme Permanent Triple...   \n",
       "22    ACT Braces Care Anticavity Mouthwash (18 Oz, C...   \n",
       "...                                                 ...   \n",
       "4920  Eminence Sun Defense Minerals Water-Resistant ...   \n",
       "4948  2 Pack - Crest 3D White Brilliance Fluoride An...   \n",
       "4954  Garnier Nutrisse Nourishing Hair Color Creme (...   \n",
       "4956  Creed Love In Black Hair And Body Wash 6.8oz/2...   \n",
       "4957                                         Foundation   \n",
       "\n",
       "                                               ImageURL  \\\n",
       "0     https://i5.walmartimages.com/asr/0e1f4c51-c1a4...   \n",
       "7     https://i5.walmartimages.com/asr/93f8bbf3-2dfd...   \n",
       "15    https://i5.walmartimages.com/asr/00a6e54a-e431...   \n",
       "20    https://i5.walmartimages.com/asr/5ffb3626-4031...   \n",
       "22    https://i5.walmartimages.com/asr/a7fa6e41-316f...   \n",
       "...                                                 ...   \n",
       "4920  https://i5.walmartimages.com/asr/32a62d01-d578...   \n",
       "4948  https://i5.walmartimages.com/asr/5758fbaf-5515...   \n",
       "4954  https://i5.walmartimages.com/asr/24d7a837-51f8...   \n",
       "4956  https://i5.walmartimages.com/asr/3dc99239-66d2...   \n",
       "4957  https://i5.walmartimages.com/asr/a76122fd-322a...   \n",
       "\n",
       "                           Brand  Rating  ReviewCount  \\\n",
       "0                            OPI     0.0          0.0   \n",
       "7                            BMC     0.0          0.0   \n",
       "15                       Clairol     3.7       2935.0   \n",
       "20                 L'Oreal Paris     4.0       6494.0   \n",
       "22                           ACT     5.0         32.0   \n",
       "...                          ...     ...          ...   \n",
       "4920  Eminence Organic Skin Care     0.0          0.0   \n",
       "4948                       Crest     4.7         43.0   \n",
       "4954                     Garnier     3.9       7484.0   \n",
       "4956                       Creed     0.0          0.0   \n",
       "4957                   COVERGIRL     0.0        438.0   \n",
       "\n",
       "                                            Description  Price  \n",
       "0                                                   NaN   8.95  \n",
       "7     Lights, Sick Beats, and Epic Gel Polish! We pr...   4.69  \n",
       "15    Discover your natural way to shine! Made with ...   6.99  \n",
       "20    The Hair Color Kit from LOreal Paris makes it ...   7.91  \n",
       "22    Got braces? Start ACTing to help prevent cavit...   3.98  \n",
       "...                                                 ...    ...  \n",
       "4920                                                NaN  46.91  \n",
       "4948  Pack of 2 for the UPC: 037000943822 Product de...  19.96  \n",
       "4954  Garnier Nutrisse Nourishing Hair Color Creme B...   4.44  \n",
       "4956                                                NaN  32.99  \n",
       "4957  Mousse foundation that gives you a smooth clea...  17.94  \n",
       "\n",
       "[832 rows x 7 columns]"
      ],
      "text/html": [
       "<div>\n",
       "<style scoped>\n",
       "    .dataframe tbody tr th:only-of-type {\n",
       "        vertical-align: middle;\n",
       "    }\n",
       "\n",
       "    .dataframe tbody tr th {\n",
       "        vertical-align: top;\n",
       "    }\n",
       "\n",
       "    .dataframe thead th {\n",
       "        text-align: right;\n",
       "    }\n",
       "</style>\n",
       "<table border=\"1\" class=\"dataframe\">\n",
       "  <thead>\n",
       "    <tr style=\"text-align: right;\">\n",
       "      <th></th>\n",
       "      <th>Name</th>\n",
       "      <th>ImageURL</th>\n",
       "      <th>Brand</th>\n",
       "      <th>Rating</th>\n",
       "      <th>ReviewCount</th>\n",
       "      <th>Description</th>\n",
       "      <th>Price</th>\n",
       "    </tr>\n",
       "  </thead>\n",
       "  <tbody>\n",
       "    <tr>\n",
       "      <th>0</th>\n",
       "      <td>OPI Infinite Shine, Nail Lacquer Nail Polish, ...</td>\n",
       "      <td>https://i5.walmartimages.com/asr/0e1f4c51-c1a4...</td>\n",
       "      <td>OPI</td>\n",
       "      <td>0.0</td>\n",
       "      <td>0.0</td>\n",
       "      <td>NaN</td>\n",
       "      <td>8.95</td>\n",
       "    </tr>\n",
       "    <tr>\n",
       "      <th>7</th>\n",
       "      <td>BMC Bright and Loud Cream Gel Lacquer Polish S...</td>\n",
       "      <td>https://i5.walmartimages.com/asr/93f8bbf3-2dfd...</td>\n",
       "      <td>BMC</td>\n",
       "      <td>0.0</td>\n",
       "      <td>0.0</td>\n",
       "      <td>Lights, Sick Beats, and Epic Gel Polish! We pr...</td>\n",
       "      <td>4.69</td>\n",
       "    </tr>\n",
       "    <tr>\n",
       "      <th>15</th>\n",
       "      <td>Clairol Natural Instincts Demi-Permanent Hair ...</td>\n",
       "      <td>https://i5.walmartimages.com/asr/00a6e54a-e431...</td>\n",
       "      <td>Clairol</td>\n",
       "      <td>3.7</td>\n",
       "      <td>2935.0</td>\n",
       "      <td>Discover your natural way to shine! Made with ...</td>\n",
       "      <td>6.99</td>\n",
       "    </tr>\n",
       "    <tr>\n",
       "      <th>20</th>\n",
       "      <td>LOreal Paris Excellence Creme Permanent Triple...</td>\n",
       "      <td>https://i5.walmartimages.com/asr/5ffb3626-4031...</td>\n",
       "      <td>L'Oreal Paris</td>\n",
       "      <td>4.0</td>\n",
       "      <td>6494.0</td>\n",
       "      <td>The Hair Color Kit from LOreal Paris makes it ...</td>\n",
       "      <td>7.91</td>\n",
       "    </tr>\n",
       "    <tr>\n",
       "      <th>22</th>\n",
       "      <td>ACT Braces Care Anticavity Mouthwash (18 Oz, C...</td>\n",
       "      <td>https://i5.walmartimages.com/asr/a7fa6e41-316f...</td>\n",
       "      <td>ACT</td>\n",
       "      <td>5.0</td>\n",
       "      <td>32.0</td>\n",
       "      <td>Got braces? Start ACTing to help prevent cavit...</td>\n",
       "      <td>3.98</td>\n",
       "    </tr>\n",
       "    <tr>\n",
       "      <th>...</th>\n",
       "      <td>...</td>\n",
       "      <td>...</td>\n",
       "      <td>...</td>\n",
       "      <td>...</td>\n",
       "      <td>...</td>\n",
       "      <td>...</td>\n",
       "      <td>...</td>\n",
       "    </tr>\n",
       "    <tr>\n",
       "      <th>4920</th>\n",
       "      <td>Eminence Sun Defense Minerals Water-Resistant ...</td>\n",
       "      <td>https://i5.walmartimages.com/asr/32a62d01-d578...</td>\n",
       "      <td>Eminence Organic Skin Care</td>\n",
       "      <td>0.0</td>\n",
       "      <td>0.0</td>\n",
       "      <td>NaN</td>\n",
       "      <td>46.91</td>\n",
       "    </tr>\n",
       "    <tr>\n",
       "      <th>4948</th>\n",
       "      <td>2 Pack - Crest 3D White Brilliance Fluoride An...</td>\n",
       "      <td>https://i5.walmartimages.com/asr/5758fbaf-5515...</td>\n",
       "      <td>Crest</td>\n",
       "      <td>4.7</td>\n",
       "      <td>43.0</td>\n",
       "      <td>Pack of 2 for the UPC: 037000943822 Product de...</td>\n",
       "      <td>19.96</td>\n",
       "    </tr>\n",
       "    <tr>\n",
       "      <th>4954</th>\n",
       "      <td>Garnier Nutrisse Nourishing Hair Color Creme (...</td>\n",
       "      <td>https://i5.walmartimages.com/asr/24d7a837-51f8...</td>\n",
       "      <td>Garnier</td>\n",
       "      <td>3.9</td>\n",
       "      <td>7484.0</td>\n",
       "      <td>Garnier Nutrisse Nourishing Hair Color Creme B...</td>\n",
       "      <td>4.44</td>\n",
       "    </tr>\n",
       "    <tr>\n",
       "      <th>4956</th>\n",
       "      <td>Creed Love In Black Hair And Body Wash 6.8oz/2...</td>\n",
       "      <td>https://i5.walmartimages.com/asr/3dc99239-66d2...</td>\n",
       "      <td>Creed</td>\n",
       "      <td>0.0</td>\n",
       "      <td>0.0</td>\n",
       "      <td>NaN</td>\n",
       "      <td>32.99</td>\n",
       "    </tr>\n",
       "    <tr>\n",
       "      <th>4957</th>\n",
       "      <td>Foundation</td>\n",
       "      <td>https://i5.walmartimages.com/asr/a76122fd-322a...</td>\n",
       "      <td>COVERGIRL</td>\n",
       "      <td>0.0</td>\n",
       "      <td>438.0</td>\n",
       "      <td>Mousse foundation that gives you a smooth clea...</td>\n",
       "      <td>17.94</td>\n",
       "    </tr>\n",
       "  </tbody>\n",
       "</table>\n",
       "<p>832 rows × 7 columns</p>\n",
       "</div>"
      ]
     },
     "execution_count": 23,
     "metadata": {},
     "output_type": "execute_result"
    }
   ],
   "execution_count": 23
  }
 ],
 "metadata": {
  "kernelspec": {
   "display_name": "Python 3",
   "language": "python",
   "name": "python3"
  },
  "language_info": {
   "codemirror_mode": {
    "name": "ipython",
    "version": 2
   },
   "file_extension": ".py",
   "mimetype": "text/x-python",
   "name": "python",
   "nbconvert_exporter": "python",
   "pygments_lexer": "ipython2",
   "version": "2.7.6"
  }
 },
 "nbformat": 4,
 "nbformat_minor": 5
}
